{
 "cells": [
  {
   "cell_type": "code",
   "execution_count": null,
   "metadata": {
    "collapsed": true
   },
   "outputs": [],
   "source": []
  },
  {
   "cell_type": "code",
   "execution_count": null,
   "metadata": {
    "collapsed": true
   },
   "outputs": [],
   "source": []
  },
  {
   "cell_type": "markdown",
   "metadata": {},
   "source": [
    " ### Web scraping Tutorial\n",
    " https://www.dataquest.io/blog/web-scraping-tutorial-python/\n",
    " \n",
    "In this tutorial, we’ll show you how to perform web scraping using Python 3 and the BeautifulSoup library. We’ll be scraping weather forecasts from the National Weather Service, and then analyzing them using the Pandas library."
   ]
  },
  {
   "cell_type": "markdown",
   "metadata": {
    "collapsed": true
   },
   "source": [
    "<html>\n",
    "    <head>\n",
    "    </head>\n",
    "    <body>\n",
    "        \n",
    "        <p> List of HTML\n",
    "        <a href=\"https://developer.mozilla.org/en-US/docs/Web/HTML/Element\">  tags </a>  \n",
    "        </p>\n",
    "    </body>\n",
    "</html>"
   ]
  },
  {
   "cell_type": "code",
   "execution_count": 35,
   "metadata": {
    "collapsed": false
   },
   "outputs": [
    {
     "name": "stdout",
     "output_type": "stream",
     "text": [
      "Page downloaded successfully\n"
     ]
    },
    {
     "data": {
      "text/plain": [
       "200"
      ]
     },
     "execution_count": 35,
     "metadata": {},
     "output_type": "execute_result"
    }
   ],
   "source": [
    "import requests\n",
    "url = \"http://www.marinetraffic.com/en/ais/index/ports/all/page:1/\"\n",
    "headers = {'User-Agent': 'Mozilla/5.0 (Macintosh; Intel Mac OS X 10_11_5) AppleWebKit/537.36 (KHTML, like Gecko) Chrome/50.0.2661.102 Safari/537.36'}\n",
    "page=requests.get(url,headers=headers)\n",
    "if page.status_code==200:\n",
    "    print (\"Page downloaded successfully\")\n",
    "page.status_code\n",
    "#print(page.content.decode())\n"
   ]
  },
  {
   "cell_type": "code",
   "execution_count": 23,
   "metadata": {
    "collapsed": false
   },
   "outputs": [],
   "source": [
    "from bs4 import BeautifulSoup\n",
    "soup = BeautifulSoup(page.content, 'html.parser')\n",
    "#print(soup.prettify())"
   ]
  },
  {
   "cell_type": "code",
   "execution_count": 24,
   "metadata": {
    "collapsed": false
   },
   "outputs": [
    {
     "data": {
      "text/plain": [
       "1"
      ]
     },
     "execution_count": 24,
     "metadata": {},
     "output_type": "execute_result"
    }
   ],
   "source": [
    "len(soup.find_all('table', class_='table'))"
   ]
  },
  {
   "cell_type": "code",
   "execution_count": 25,
   "metadata": {
    "collapsed": false
   },
   "outputs": [],
   "source": [
    "Table1=soup.find_all('table', class_='table')\n"
   ]
  },
  {
   "cell_type": "code",
   "execution_count": 37,
   "metadata": {
    "collapsed": false
   },
   "outputs": [
    {
     "data": {
      "text/plain": [
       "[<a href=\"/ais/index/ports/all/page:1/sort:COUNTRY/direction:asc\">Country</a>]"
      ]
     },
     "execution_count": 37,
     "metadata": {},
     "output_type": "execute_result"
    }
   ],
   "source": [
    "Table1[0](href=\"/ais/index/ports/all/page:1/sort:COUNTRY/direction:asc\")\n"
   ]
  },
  {
   "cell_type": "code",
   "execution_count": 78,
   "metadata": {
    "collapsed": false
   },
   "outputs": [
    {
     "data": {
      "text/plain": [
       "<tr>\n",
       "<td>\n",
       "<img alt=\"SG\" class=\"img-responsive center-block\" src=\"/img/flags/png40/SG.png\" title=\"SG\"/> </td>\n",
       "<td>\n",
       "<a href=\"/en/ais/details/ports/290/Singapore_port:SINGAPORE\" title=\"View details for SINGAPORE\">SINGAPORE</a>\n",
       "</td>\n",
       "<td>\n",
       "                        SG SIN                    </td>\n",
       "<td>\n",
       "<span><div class=\"list_photos\"><a href=\"/en/photos/of/ports/photo_keywords:290/port_name:SINGAPORE\" title=\"Photos of: SINGAPORE\"><img alt=\"Photos of: SINGAPORE\" src=\"//photos.marinetraffic.com/ais/showphoto.aspx?mmsi=290&amp;size=thumb&amp;shiptype=Port\" title=\"Photos of: SINGAPORE\"><span class=\"text-overflow\">Photos: 121<i class=\"fa fa-chevron-circle-right\"></i></span></img></a></div></span> </td>\n",
       "<td>\n",
       "                        Port                    </td>\n",
       "<td>\n",
       "<a href=\"/en/ais/home/zoom:14/centerx:103.7544/centery:1.259366/showports:true/portid:290\" title=\"Show on Map\"><img alt=\"Show on Map\" src=\"/img/icons/show_on_map_magnify.png\" style=\"\" title=\"Show on Map\"/></a> </td>\n",
       "<td>\n",
       "<a href=\"/en/ais/index/ships/range/port_id:290/port_name:SINGAPORE\" title=\"Ships currently in Port\">810</a>\n",
       "</td>\n",
       "<td>\n",
       "<a href=\"/en/ais/index/port_moves/all/port:290/portname:SINGAPORE/move_type:1\" title=\"Departures\">1366</a>\n",
       "</td>\n",
       "<td>\n",
       "<a href=\"/en/ais/index/port_moves/all/port:290/portname:SINGAPORE/move_type:0\" title=\"Arrivals\">1466</a>\n",
       "</td>\n",
       "<td>\n",
       "<a href=\"/en/ais/index/eta/all/port:290/portname:SINGAPORE\" title=\"Expected Arrivals\">1054</a>\n",
       "</td>\n",
       "<td>\n",
       "<div class=\"badge-custom coverage-badge badge-success\" data-placement=\"top\" data-toggle=\"tooltip\" rel=\"tooltip\" title=\"Covered now\"></div> </td>\n",
       "</tr>"
      ]
     },
     "execution_count": 78,
     "metadata": {},
     "output_type": "execute_result"
    }
   ],
   "source": [
    "# Create four variables to score the scraped data in\n",
    "Conutry= []\n",
    "PorName_name = []\n",
    "UNCode = []\n",
    "Type = []\n",
    "Map = []\n",
    "ShipsInPort = []\n",
    "Departure = []\n",
    "Arrivales=[]\n",
    "ExpectedArrivales=[]\n",
    "Covearge=[]\n",
    "\n",
    "# Create an object of the first object that is class=dataframe\n",
    "table=soup.find_all('table', class_='table')\n",
    "table[0].find_all('tr')[2]"
   ]
  },
  {
   "cell_type": "code",
   "execution_count": 109,
   "metadata": {
    "collapsed": false
   },
   "outputs": [
    {
     "ename": "NameError",
     "evalue": "name 'convert_string' is not defined",
     "output_type": "error",
     "traceback": [
      "\u001b[0;31m---------------------------------------------------------------------------\u001b[0m",
      "\u001b[0;31mNameError\u001b[0m                                 Traceback (most recent call last)",
      "\u001b[0;32m<ipython-input-109-c99f1137f451>\u001b[0m in \u001b[0;36m<module>\u001b[0;34m()\u001b[0m\n\u001b[0;32m----> 1\u001b[0;31m \u001b[0mconvert_string\u001b[0m\u001b[0;34m(\u001b[0m\u001b[0mtable\u001b[0m\u001b[0;34m[\u001b[0m\u001b[0;36m0\u001b[0m\u001b[0;34m]\u001b[0m\u001b[0;34m.\u001b[0m\u001b[0mfind_all\u001b[0m\u001b[0;34m(\u001b[0m\u001b[0;34m'tr'\u001b[0m\u001b[0;34m)\u001b[0m\u001b[0;34m[\u001b[0m\u001b[0;36m1\u001b[0m\u001b[0;34m]\u001b[0m\u001b[0;34m.\u001b[0m\u001b[0mfind_all\u001b[0m\u001b[0;34m(\u001b[0m\u001b[0;34m'td'\u001b[0m\u001b[0;34m)\u001b[0m\u001b[0;34m[\u001b[0m\u001b[0;36m1\u001b[0m\u001b[0;34m]\u001b[0m\u001b[0;34m)\u001b[0m\u001b[0;34m\u001b[0m\u001b[0m\n\u001b[0m",
      "\u001b[0;31mNameError\u001b[0m: name 'convert_string' is not defined"
     ]
    }
   ],
   "source": [
    "convert_string(table[0].find_all('tr')[1].find_all('td')[1])"
   ]
  },
  {
   "cell_type": "code",
   "execution_count": 88,
   "metadata": {
    "collapsed": false
   },
   "outputs": [
    {
     "ename": "AttributeError",
     "evalue": "'NoneType' object has no attribute 'strip'",
     "output_type": "error",
     "traceback": [
      "\u001b[0;31m---------------------------------------------------------------------------\u001b[0m",
      "\u001b[0;31mAttributeError\u001b[0m                            Traceback (most recent call last)",
      "\u001b[0;32m<ipython-input-88-ef0705524343>\u001b[0m in \u001b[0;36m<module>\u001b[0;34m()\u001b[0m\n\u001b[1;32m      5\u001b[0m \u001b[0;34m\u001b[0m\u001b[0m\n\u001b[1;32m      6\u001b[0m     \u001b[0;31m# Create a variable of the string inside 1st <td> tag pair,\u001b[0m\u001b[0;34m\u001b[0m\u001b[0;34m\u001b[0m\u001b[0m\n\u001b[0;32m----> 7\u001b[0;31m     \u001b[0mcolumn_1\u001b[0m \u001b[0;34m=\u001b[0m \u001b[0mcol\u001b[0m\u001b[0;34m[\u001b[0m\u001b[0;36m0\u001b[0m\u001b[0;34m]\u001b[0m\u001b[0;34m.\u001b[0m\u001b[0mstring\u001b[0m\u001b[0;34m.\u001b[0m\u001b[0mstrip\u001b[0m\u001b[0;34m(\u001b[0m\u001b[0;34m'</a>'\u001b[0m\u001b[0;34m)\u001b[0m\u001b[0;34m.\u001b[0m\u001b[0mstrip\u001b[0m\u001b[0;34m(\u001b[0m\u001b[0;34m'\">'\u001b[0m\u001b[0;34m)\u001b[0m\u001b[0;34m[\u001b[0m\u001b[0;36m1\u001b[0m\u001b[0;34m]\u001b[0m\u001b[0;34m\u001b[0m\u001b[0m\n\u001b[0m\u001b[1;32m      8\u001b[0m     \u001b[0;31m# and append it to first_name variable\u001b[0m\u001b[0;34m\u001b[0m\u001b[0;34m\u001b[0m\u001b[0m\n\u001b[1;32m      9\u001b[0m     \u001b[0mfirst_name\u001b[0m\u001b[0;34m.\u001b[0m\u001b[0mappend\u001b[0m\u001b[0;34m(\u001b[0m\u001b[0mcolumn_1\u001b[0m\u001b[0;34m)\u001b[0m\u001b[0;34m\u001b[0m\u001b[0m\n",
      "\u001b[0;31mAttributeError\u001b[0m: 'NoneType' object has no attribute 'strip'"
     ]
    }
   ],
   "source": [
    "# Find all the <tr> tag pairs, skip the first one, then for each.\n",
    "for row in table[0].find_all('tr')[1:]:\n",
    "    # Create a variable of all the <td> tag pairs in each <tr> tag pair,\n",
    "    col = row.find_all('td')\n",
    "\n",
    "    # Create a variable of the string inside 1st <td> tag pair,\n",
    "    column_1 = col[0].string.strip('</a>').strip('\">')[1]\n",
    "    # and append it to first_name variable\n",
    "    first_name.append(column_1)\n",
    "\n",
    "    # Create a variable of the string inside 2nd <td> tag pair,\n",
    "    column_2 = col[1].string.strip()\n",
    "    # and append it to last_name variable\n",
    "    last_name.append(column_2)\n",
    "\n",
    "    # Create a variable of the string inside 3rd <td> tag pair,\n",
    "    column_3 = col[2].string.strip()\n",
    "    # and append it to age variable\n",
    "    age.append(column_3)\n",
    "\n",
    "    # Create a variable of the string inside 4th <td> tag pair,\n",
    "    column_4 = col[3].string.strip()\n",
    "    # and append it to preTestScore variable\n",
    "    preTestScore.append(column_4)\n",
    "\n",
    "    # Create a variable of the string inside 5th <td> tag pair,\n",
    "    column_5 = col[4].string.strip()\n",
    "    # and append it to postTestScore variable\n",
    "    postTestScore.append(column_5)\n",
    "\n",
    "# Create a variable of the value of the columns\n",
    "columns = {'Conutry': Conutry, 'PorName_name': PorName_name, 'UNCode': UNCode, 'Type': Type}\n",
    "\n",
    "# Create a dataframe from the columns variable\n",
    "df = pd.DataFrame(columns)"
   ]
  },
  {
   "cell_type": "code",
   "execution_count": 46,
   "metadata": {
    "collapsed": false
   },
   "outputs": [
    {
     "data": {
      "text/plain": [
       "[<table class=\"table table-hover text-left\">\n",
       " <tr>\n",
       " <th><a href=\"/ais/index/ports/all/page:1/sort:COUNTRY/direction:asc\">Country</a></th>\n",
       " <th><a href=\"/ais/index/ports/all/page:1/sort:PORT_NAME/direction:asc\">Port Name</a></th>\n",
       " <th><a href=\"/ais/index/ports/all/page:1/sort:UNLOCODE/direction:asc\">UN/LOCODE</a></th>\n",
       " <th><a href=\"/ais/index/ports/all/page:1/sort:COUNT_PHOTOS/direction:asc\">Photo</a></th>\n",
       " <th><a href=\"/ais/index/ports/all/page:1/sort:PORT_TYPE/direction:asc\">Type</a></th>\n",
       " <th>Port's Map</th>\n",
       " <th><a href=\"/ais/index/ports/all/page:1/sort:SHIPCOUNT/direction:asc\">Ships in Port now</a></th>\n",
       " <th><a href=\"/ais/index/ports/all/page:1/sort:DEPARTCOUNT/direction:asc\">Departures</a></th>\n",
       " <th><a href=\"/ais/index/ports/all/page:1/sort:ARRIVECOUNT/direction:asc\">Arrivals</a></th>\n",
       " <th><a href=\"/ais/index/ports/all/page:1/sort:EXPECTEDCOUNT/direction:asc\">Expected Arrivals</a></th>\n",
       " <th><a href=\"/ais/index/ports/all/page:1/sort:COVERAGE/direction:asc\">Coverage</a></th>\n",
       " </tr>\n",
       " <tr>\n",
       " <td>\n",
       " <img alt=\"CN\" class=\"img-responsive center-block\" src=\"/img/flags/png40/CN.png\" title=\"CN\"/> </td>\n",
       " <td>\n",
       " <a href=\"/en/ais/details/ports/1253/China_port:SHANGHAI\" title=\"View details for SHANGHAI\">SHANGHAI</a>\n",
       " </td>\n",
       " <td>\n",
       "                         CN SHA                    </td>\n",
       " <td>\n",
       " <span><div class=\"list_photos\"><a href=\"/en/photos/of/ports/photo_keywords:1253/port_name:SHANGHAI\" title=\"Photos of: SHANGHAI\"><img alt=\"Photos of: SHANGHAI\" src=\"//photos.marinetraffic.com/ais/showphoto.aspx?mmsi=1253&amp;size=thumb&amp;shiptype=Port\" title=\"Photos of: SHANGHAI\"><span class=\"text-overflow\">Photos: 9<i class=\"fa fa-chevron-circle-right\"></i></span></img></a></div></span> </td>\n",
       " <td>\n",
       "                         Port                    </td>\n",
       " <td>\n",
       " <a href=\"/en/ais/home/zoom:9/centerx:121.601/centery:31.38144/showports:true/portid:1253\" title=\"Show on Map\"><img alt=\"Show on Map\" src=\"/img/icons/show_on_map_magnify.png\" style=\"\" title=\"Show on Map\"/></a> </td>\n",
       " <td>\n",
       " <a href=\"/en/ais/index/ships/range/port_id:1253/port_name:SHANGHAI\" title=\"Ships currently in Port\">2174</a>\n",
       " </td>\n",
       " <td>\n",
       " <a href=\"/en/ais/index/port_moves/all/port:1253/portname:SHANGHAI/move_type:1\" title=\"Departures\">3337</a>\n",
       " </td>\n",
       " <td>\n",
       " <a href=\"/en/ais/index/port_moves/all/port:1253/portname:SHANGHAI/move_type:0\" title=\"Arrivals\">3598</a>\n",
       " </td>\n",
       " <td>\n",
       " <a href=\"/en/ais/index/eta/all/port:1253/portname:SHANGHAI\" title=\"Expected Arrivals\">191</a>\n",
       " </td>\n",
       " <td>\n",
       " <div class=\"badge-custom coverage-badge badge-success\" data-placement=\"top\" data-toggle=\"tooltip\" rel=\"tooltip\" title=\"Covered now\"></div> </td>\n",
       " </tr>\n",
       " <tr>\n",
       " <td>\n",
       " <img alt=\"SG\" class=\"img-responsive center-block\" src=\"/img/flags/png40/SG.png\" title=\"SG\"/> </td>\n",
       " <td>\n",
       " <a href=\"/en/ais/details/ports/290/Singapore_port:SINGAPORE\" title=\"View details for SINGAPORE\">SINGAPORE</a>\n",
       " </td>\n",
       " <td>\n",
       "                         SG SIN                    </td>\n",
       " <td>\n",
       " <span><div class=\"list_photos\"><a href=\"/en/photos/of/ports/photo_keywords:290/port_name:SINGAPORE\" title=\"Photos of: SINGAPORE\"><img alt=\"Photos of: SINGAPORE\" src=\"//photos.marinetraffic.com/ais/showphoto.aspx?mmsi=290&amp;size=thumb&amp;shiptype=Port\" title=\"Photos of: SINGAPORE\"><span class=\"text-overflow\">Photos: 121<i class=\"fa fa-chevron-circle-right\"></i></span></img></a></div></span> </td>\n",
       " <td>\n",
       "                         Port                    </td>\n",
       " <td>\n",
       " <a href=\"/en/ais/home/zoom:14/centerx:103.7544/centery:1.259366/showports:true/portid:290\" title=\"Show on Map\"><img alt=\"Show on Map\" src=\"/img/icons/show_on_map_magnify.png\" style=\"\" title=\"Show on Map\"/></a> </td>\n",
       " <td>\n",
       " <a href=\"/en/ais/index/ships/range/port_id:290/port_name:SINGAPORE\" title=\"Ships currently in Port\">810</a>\n",
       " </td>\n",
       " <td>\n",
       " <a href=\"/en/ais/index/port_moves/all/port:290/portname:SINGAPORE/move_type:1\" title=\"Departures\">1366</a>\n",
       " </td>\n",
       " <td>\n",
       " <a href=\"/en/ais/index/port_moves/all/port:290/portname:SINGAPORE/move_type:0\" title=\"Arrivals\">1466</a>\n",
       " </td>\n",
       " <td>\n",
       " <a href=\"/en/ais/index/eta/all/port:290/portname:SINGAPORE\" title=\"Expected Arrivals\">1054</a>\n",
       " </td>\n",
       " <td>\n",
       " <div class=\"badge-custom coverage-badge badge-success\" data-placement=\"top\" data-toggle=\"tooltip\" rel=\"tooltip\" title=\"Covered now\"></div> </td>\n",
       " </tr>\n",
       " <tr>\n",
       " <td>\n",
       " <img alt=\"CN\" class=\"img-responsive center-block\" src=\"/img/flags/png40/CN.png\" title=\"CN\"/> </td>\n",
       " <td>\n",
       " <a href=\"/en/ais/details/ports/3239/China_port:MINHANG\" title=\"View details for MINHANG\">MINHANG</a>\n",
       " </td>\n",
       " <td>\n",
       "                         CN MNG                    </td>\n",
       " <td>\n",
       "                         No photos for this port<br/><a class=\"login_gate\" data-login-error=\"You need to Sign in to use this feature\" data-mixpanel=\"Upload Photo\" href=\"/en/photos/upload/mmsi:3239/name:MINHANG/type:Port\"><i class=\"fa fa-upload\"></i> Upload a photo</a> </td>\n",
       " <td>\n",
       "                         Port                    </td>\n",
       " <td>\n",
       " <a href=\"/en/ais/home/zoom:14/centerx:121.4/centery:31/showports:true/portid:3239\" title=\"Show on Map\"><img alt=\"Show on Map\" src=\"/img/icons/show_on_map_magnify.png\" style=\"\" title=\"Show on Map\"/></a> </td>\n",
       " <td>\n",
       " <a href=\"/en/ais/index/ships/range/port_id:3239/port_name:MINHANG\" title=\"Ships currently in Port\">806</a>\n",
       " </td>\n",
       " <td>\n",
       " <a href=\"/en/ais/index/port_moves/all/port:3239/portname:MINHANG/move_type:1\" title=\"Departures\">1633</a>\n",
       " </td>\n",
       " <td>\n",
       " <a href=\"/en/ais/index/port_moves/all/port:3239/portname:MINHANG/move_type:0\" title=\"Arrivals\">1914</a>\n",
       " </td>\n",
       " <td>\n",
       " <a href=\"/en/ais/index/eta/all/port:3239/portname:MINHANG\" title=\"Expected Arrivals\">2</a>\n",
       " </td>\n",
       " <td>\n",
       " <div class=\"badge-custom coverage-badge badge-success\" data-placement=\"top\" data-toggle=\"tooltip\" rel=\"tooltip\" title=\"Covered now\"></div> </td>\n",
       " </tr>\n",
       " <tr>\n",
       " <td>\n",
       " <img alt=\"CN\" class=\"img-responsive center-block\" src=\"/img/flags/png40/CN.png\" title=\"CN\"/> </td>\n",
       " <td>\n",
       " <a href=\"/en/ais/details/ports/17370/China_port:NANTONG\" title=\"View details for NANTONG\">NANTONG</a>\n",
       " </td>\n",
       " <td>\n",
       "                         CN NTG                    </td>\n",
       " <td>\n",
       "                         No photos for this port<br/><a class=\"login_gate\" data-login-error=\"You need to Sign in to use this feature\" data-mixpanel=\"Upload Photo\" href=\"/en/photos/upload/mmsi:17370/name:NANTONG/type:Port\"><i class=\"fa fa-upload\"></i> Upload a photo</a> </td>\n",
       " <td>\n",
       "                         Port                    </td>\n",
       " <td>\n",
       " <a href=\"/en/ais/home/zoom:13/centerx:120.865/centery:31.97304/showports:true/portid:17370\" title=\"Show on Map\"><img alt=\"Show on Map\" src=\"/img/icons/show_on_map_magnify.png\" style=\"\" title=\"Show on Map\"/></a> </td>\n",
       " <td>\n",
       " <a href=\"/en/ais/index/ships/range/port_id:17370/port_name:NANTONG\" title=\"Ships currently in Port\">790</a>\n",
       " </td>\n",
       " <td>\n",
       " <a href=\"/en/ais/index/port_moves/all/port:17370/portname:NANTONG/move_type:1\" title=\"Departures\">972</a>\n",
       " </td>\n",
       " <td>\n",
       " <a href=\"/en/ais/index/port_moves/all/port:17370/portname:NANTONG/move_type:0\" title=\"Arrivals\">1129</a>\n",
       " </td>\n",
       " <td>\n",
       " <a href=\"/en/ais/index/eta/all/port:17370/portname:NANTONG\" title=\"Expected Arrivals\">51</a>\n",
       " </td>\n",
       " <td>\n",
       " <div class=\"badge-custom coverage-badge badge-success\" data-placement=\"top\" data-toggle=\"tooltip\" rel=\"tooltip\" title=\"Covered now\"></div> </td>\n",
       " </tr>\n",
       " <tr>\n",
       " <td>\n",
       " <img alt=\"HK\" class=\"img-responsive center-block\" src=\"/img/flags/png40/HK.png\" title=\"HK\"/> </td>\n",
       " <td>\n",
       " <a href=\"/en/ais/details/ports/2429/Hong Kong_port:HONG%20KONG\" title=\"View details for HONG KONG\">HONG KONG</a>\n",
       " </td>\n",
       " <td>\n",
       "                         HK HKG                    </td>\n",
       " <td>\n",
       " <span><div class=\"list_photos\"><a href=\"/en/photos/of/ports/photo_keywords:2429/port_name:HONG%20KONG\" title=\"Photos of: HONG KONG\"><img alt=\"Photos of: HONG KONG\" src=\"//photos.marinetraffic.com/ais/showphoto.aspx?mmsi=2429&amp;size=thumb&amp;shiptype=Port\" title=\"Photos of: HONG KONG\"><span class=\"text-overflow\">Photos: 25<i class=\"fa fa-chevron-circle-right\"></i></span></img></a></div></span> </td>\n",
       " <td>\n",
       "                         Port                    </td>\n",
       " <td>\n",
       " <a href=\"/en/ais/home/zoom:14/centerx:114.1681/centery:22.31081/showports:true/portid:2429\" title=\"Show on Map\"><img alt=\"Show on Map\" src=\"/img/icons/show_on_map_magnify.png\" style=\"\" title=\"Show on Map\"/></a> </td>\n",
       " <td>\n",
       " <a href=\"/en/ais/index/ships/range/port_id:2429/port_name:HONG%20KONG\" title=\"Ships currently in Port\">719</a>\n",
       " </td>\n",
       " <td>\n",
       " <a href=\"/en/ais/index/port_moves/all/port:2429/portname:HONG%20KONG/move_type:1\" title=\"Departures\">1540</a>\n",
       " </td>\n",
       " <td>\n",
       " <a href=\"/en/ais/index/port_moves/all/port:2429/portname:HONG%20KONG/move_type:0\" title=\"Arrivals\">1641</a>\n",
       " </td>\n",
       " <td>\n",
       " <a href=\"/en/ais/index/eta/all/port:2429/portname:HONG%20KONG\" title=\"Expected Arrivals\">120</a>\n",
       " </td>\n",
       " <td>\n",
       " <div class=\"badge-custom coverage-badge badge-success\" data-placement=\"top\" data-toggle=\"tooltip\" rel=\"tooltip\" title=\"Covered now\"></div> </td>\n",
       " </tr>\n",
       " <tr>\n",
       " <td>\n",
       " <img alt=\"SG\" class=\"img-responsive center-block\" src=\"/img/flags/png40/SG.png\" title=\"SG\"/> </td>\n",
       " <td>\n",
       " <a href=\"/en/ais/details/ports/18812/Singapore_port:SINGAPORE%20ANCH\" title=\"View details for SINGAPORE ANCH\">SINGAPORE ANCH</a>\n",
       " </td>\n",
       " <td>\n",
       "                         -                    </td>\n",
       " <td>\n",
       "                         No photos for this port<br/><a class=\"login_gate\" data-login-error=\"You need to Sign in to use this feature\" data-mixpanel=\"Upload Photo\" href=\"/en/photos/upload/mmsi:18812/name:SINGAPORE%20ANCH/type:Port\"><i class=\"fa fa-upload\"></i> Upload a photo</a> </td>\n",
       " <td>\n",
       "                         Anchorage                    </td>\n",
       " <td>\n",
       " <a href=\"/en/ais/home/zoom:13/centerx:103.8121/centery:1.210638/showports:true/portid:18812\" title=\"Show on Map\"><img alt=\"Show on Map\" src=\"/img/icons/show_on_map_magnify.png\" style=\"\" title=\"Show on Map\"/></a> </td>\n",
       " <td>\n",
       " <a href=\"/en/ais/index/ships/range/port_id:18812/port_name:SINGAPORE%20ANCH\" title=\"Ships currently in Port\">647</a>\n",
       " </td>\n",
       " <td>\n",
       " <a href=\"/en/ais/index/port_moves/all/port:18812/portname:SINGAPORE%20ANCH/move_type:1\" title=\"Departures\">1146</a>\n",
       " </td>\n",
       " <td>\n",
       " <a href=\"/en/ais/index/port_moves/all/port:18812/portname:SINGAPORE%20ANCH/move_type:0\" title=\"Arrivals\">1543</a>\n",
       " </td>\n",
       " <td>\n",
       " <a href=\"/en/ais/index/eta/all/port:18812/portname:SINGAPORE%20ANCH\" title=\"Expected Arrivals\">0</a>\n",
       " </td>\n",
       " <td>\n",
       " <div class=\"badge-custom coverage-badge badge-success\" data-placement=\"top\" data-toggle=\"tooltip\" rel=\"tooltip\" title=\"Covered now\"></div> </td>\n",
       " </tr>\n",
       " <tr>\n",
       " <td>\n",
       " <img alt=\"NL\" class=\"img-responsive center-block\" src=\"/img/flags/png40/NL.png\" title=\"NL\"/> </td>\n",
       " <td>\n",
       " <a href=\"/en/ais/details/ports/1766/Netherlands_port:AMSTERDAM\" title=\"View details for AMSTERDAM\">AMSTERDAM</a>\n",
       " </td>\n",
       " <td>\n",
       "                         NL AMS                    </td>\n",
       " <td>\n",
       " <span><div class=\"list_photos\"><a href=\"/en/photos/of/ports/photo_keywords:1766/port_name:AMSTERDAM\" title=\"Photos of: AMSTERDAM\"><img alt=\"Photos of: AMSTERDAM\" src=\"//photos.marinetraffic.com/ais/showphoto.aspx?mmsi=1766&amp;size=thumb&amp;shiptype=Port\" title=\"Photos of: AMSTERDAM\"><span class=\"text-overflow\">Photos: 58<i class=\"fa fa-chevron-circle-right\"></i></span></img></a></div></span> </td>\n",
       " <td>\n",
       "                         Port                    </td>\n",
       " <td>\n",
       " <a href=\"/en/ais/home/zoom:14/centerx:4.878955/centery:52.37075/showports:true/portid:1766\" title=\"Show on Map\"><img alt=\"Show on Map\" src=\"/img/icons/show_on_map_magnify.png\" style=\"\" title=\"Show on Map\"/></a> </td>\n",
       " <td>\n",
       " <a href=\"/en/ais/index/ships/range/port_id:1766/port_name:AMSTERDAM\" title=\"Ships currently in Port\">548</a>\n",
       " </td>\n",
       " <td>\n",
       " <a href=\"/en/ais/index/port_moves/all/port:1766/portname:AMSTERDAM/move_type:1\" title=\"Departures\">195</a>\n",
       " </td>\n",
       " <td>\n",
       " <a href=\"/en/ais/index/port_moves/all/port:1766/portname:AMSTERDAM/move_type:0\" title=\"Arrivals\">189</a>\n",
       " </td>\n",
       " <td>\n",
       " <a href=\"/en/ais/index/eta/all/port:1766/portname:AMSTERDAM\" title=\"Expected Arrivals\">78</a>\n",
       " </td>\n",
       " <td>\n",
       " <div class=\"badge-custom coverage-badge badge-success\" data-placement=\"top\" data-toggle=\"tooltip\" rel=\"tooltip\" title=\"Covered now\"></div> </td>\n",
       " </tr>\n",
       " <tr>\n",
       " <td>\n",
       " <img alt=\"BE\" class=\"img-responsive center-block\" src=\"/img/flags/png40/BE.png\" title=\"BE\"/> </td>\n",
       " <td>\n",
       " <a href=\"/en/ais/details/ports/117/Belgium_port:ANTWERP\" title=\"View details for ANTWERP\">ANTWERP</a>\n",
       " </td>\n",
       " <td>\n",
       "                         BE ANR                    </td>\n",
       " <td>\n",
       " <span><div class=\"list_photos\"><a href=\"/en/photos/of/ports/photo_keywords:117/port_name:ANTWERP\" title=\"Photos of: ANTWERP\"><img alt=\"Photos of: ANTWERP\" src=\"//photos.marinetraffic.com/ais/showphoto.aspx?mmsi=117&amp;size=thumb&amp;shiptype=Port\" title=\"Photos of: ANTWERP\"><span class=\"text-overflow\">Photos: 113<i class=\"fa fa-chevron-circle-right\"></i></span></img></a></div></span> </td>\n",
       " <td>\n",
       "                         Port                    </td>\n",
       " <td>\n",
       " <a href=\"/en/ais/home/zoom:13/centerx:4.31146/centery:51.30249/showports:true/portid:117\" title=\"Show on Map\"><img alt=\"Show on Map\" src=\"/img/icons/show_on_map_magnify.png\" style=\"\" title=\"Show on Map\"/></a> </td>\n",
       " <td>\n",
       " <a href=\"/en/ais/index/ships/range/port_id:117/port_name:ANTWERP\" title=\"Ships currently in Port\">511</a>\n",
       " </td>\n",
       " <td>\n",
       " <a href=\"/en/ais/index/port_moves/all/port:117/portname:ANTWERP/move_type:1\" title=\"Departures\">218</a>\n",
       " </td>\n",
       " <td>\n",
       " <a href=\"/en/ais/index/port_moves/all/port:117/portname:ANTWERP/move_type:0\" title=\"Arrivals\">245</a>\n",
       " </td>\n",
       " <td>\n",
       " <a href=\"/en/ais/index/eta/all/port:117/portname:ANTWERP\" title=\"Expected Arrivals\">137</a>\n",
       " </td>\n",
       " <td>\n",
       " <div class=\"badge-custom coverage-badge badge-success\" data-placement=\"top\" data-toggle=\"tooltip\" rel=\"tooltip\" title=\"Covered now\"></div> </td>\n",
       " </tr>\n",
       " <tr>\n",
       " <td>\n",
       " <img alt=\"CN\" class=\"img-responsive center-block\" src=\"/img/flags/png40/CN.png\" title=\"CN\"/> </td>\n",
       " <td>\n",
       " <a href=\"/en/ais/details/ports/2712/China_port:ZHANGJIAGANG\" title=\"View details for ZHANGJIAGANG\">ZHANGJIAGANG</a>\n",
       " </td>\n",
       " <td>\n",
       "                         CN ZJG                    </td>\n",
       " <td>\n",
       " <span><div class=\"list_photos\"><a href=\"/en/photos/of/ports/photo_keywords:2712/port_name:ZHANGJIAGANG\" title=\"Photos of: ZHANGJIAGANG\"><img alt=\"Photos of: ZHANGJIAGANG\" src=\"//photos.marinetraffic.com/ais/showphoto.aspx?mmsi=2712&amp;size=thumb&amp;shiptype=Port\" title=\"Photos of: ZHANGJIAGANG\"><span class=\"text-overflow\">Photos: 2<i class=\"fa fa-chevron-circle-right\"></i></span></img></a></div></span> </td>\n",
       " <td>\n",
       "                         Port                    </td>\n",
       " <td>\n",
       " <a href=\"/en/ais/home/zoom:14/centerx:120.4193/centery:31.97519/showports:true/portid:2712\" title=\"Show on Map\"><img alt=\"Show on Map\" src=\"/img/icons/show_on_map_magnify.png\" style=\"\" title=\"Show on Map\"/></a> </td>\n",
       " <td>\n",
       " <a href=\"/en/ais/index/ships/range/port_id:2712/port_name:ZHANGJIAGANG\" title=\"Ships currently in Port\">498</a>\n",
       " </td>\n",
       " <td>\n",
       " <a href=\"/en/ais/index/port_moves/all/port:2712/portname:ZHANGJIAGANG/move_type:1\" title=\"Departures\">532</a>\n",
       " </td>\n",
       " <td>\n",
       " <a href=\"/en/ais/index/port_moves/all/port:2712/portname:ZHANGJIAGANG/move_type:0\" title=\"Arrivals\">577</a>\n",
       " </td>\n",
       " <td>\n",
       " <a href=\"/en/ais/index/eta/all/port:2712/portname:ZHANGJIAGANG\" title=\"Expected Arrivals\">32</a>\n",
       " </td>\n",
       " <td>\n",
       " <div class=\"badge-custom coverage-badge badge-success\" data-placement=\"top\" data-toggle=\"tooltip\" rel=\"tooltip\" title=\"Covered now\"></div> </td>\n",
       " </tr>\n",
       " <tr>\n",
       " <td>\n",
       " <img alt=\"CN\" class=\"img-responsive center-block\" src=\"/img/flags/png40/CN.png\" title=\"CN\"/> </td>\n",
       " <td>\n",
       " <a href=\"/en/ais/details/ports/18853/China_port:YANGZHOU\" title=\"View details for YANGZHOU\">YANGZHOU</a>\n",
       " </td>\n",
       " <td>\n",
       "                         CN YZH                    </td>\n",
       " <td>\n",
       "                         No photos for this port<br/><a class=\"login_gate\" data-login-error=\"You need to Sign in to use this feature\" data-mixpanel=\"Upload Photo\" href=\"/en/photos/upload/mmsi:18853/name:YANGZHOU/type:Port\"><i class=\"fa fa-upload\"></i> Upload a photo</a> </td>\n",
       " <td>\n",
       "                         Port                    </td>\n",
       " <td>\n",
       " <a href=\"/en/ais/home/zoom:13/centerx:119.4725/centery:32.31264/showports:true/portid:18853\" title=\"Show on Map\"><img alt=\"Show on Map\" src=\"/img/icons/show_on_map_magnify.png\" style=\"\" title=\"Show on Map\"/></a> </td>\n",
       " <td>\n",
       " <a href=\"/en/ais/index/ships/range/port_id:18853/port_name:YANGZHOU\" title=\"Ships currently in Port\">460</a>\n",
       " </td>\n",
       " <td>\n",
       " <a href=\"/en/ais/index/port_moves/all/port:18853/portname:YANGZHOU/move_type:1\" title=\"Departures\">1790</a>\n",
       " </td>\n",
       " <td>\n",
       " <a href=\"/en/ais/index/port_moves/all/port:18853/portname:YANGZHOU/move_type:0\" title=\"Arrivals\">2160</a>\n",
       " </td>\n",
       " <td>\n",
       " <a href=\"/en/ais/index/eta/all/port:18853/portname:YANGZHOU\" title=\"Expected Arrivals\">6</a>\n",
       " </td>\n",
       " <td>\n",
       " <div class=\"badge-custom coverage-badge badge-success\" data-placement=\"top\" data-toggle=\"tooltip\" rel=\"tooltip\" title=\"Covered now\"></div> </td>\n",
       " </tr>\n",
       " </table>]"
      ]
     },
     "execution_count": 46,
     "metadata": {},
     "output_type": "execute_result"
    }
   ],
   "source": [
    "table"
   ]
  },
  {
   "cell_type": "code",
   "execution_count": null,
   "metadata": {
    "collapsed": true
   },
   "outputs": [],
   "source": []
  },
  {
   "cell_type": "code",
   "execution_count": 8,
   "metadata": {
    "collapsed": false
   },
   "outputs": [
    {
     "data": {
      "text/plain": [
       "[bs4.element.Doctype, bs4.element.NavigableString, bs4.element.Tag]"
      ]
     },
     "execution_count": 8,
     "metadata": {},
     "output_type": "execute_result"
    }
   ],
   "source": [
    "[type(item) for item in list(soup.children)] \n"
   ]
  },
  {
   "cell_type": "code",
   "execution_count": 9,
   "metadata": {
    "collapsed": true
   },
   "outputs": [],
   "source": [
    "html = list(soup.children)[2]\n"
   ]
  },
  {
   "cell_type": "code",
   "execution_count": 11,
   "metadata": {
    "collapsed": false
   },
   "outputs": [
    {
     "data": {
      "text/plain": [
       "['\\n', <head>\n",
       " <title>A simple example page</title>\n",
       " </head>, '\\n', <body>\n",
       " <p>Here is some simple content for this page.</p>\n",
       " </body>, '\\n']"
      ]
     },
     "execution_count": 11,
     "metadata": {},
     "output_type": "execute_result"
    }
   ],
   "source": [
    "list(html.children)\n"
   ]
  },
  {
   "cell_type": "code",
   "execution_count": 13,
   "metadata": {
    "collapsed": true
   },
   "outputs": [],
   "source": [
    "body = list(html.children)[3]\n"
   ]
  },
  {
   "cell_type": "code",
   "execution_count": 16,
   "metadata": {
    "collapsed": false
   },
   "outputs": [],
   "source": [
    "p=list(body.children)[1]"
   ]
  },
  {
   "cell_type": "code",
   "execution_count": 17,
   "metadata": {
    "collapsed": false
   },
   "outputs": [
    {
     "data": {
      "text/plain": [
       "'Here is some simple content for this page.'"
      ]
     },
     "execution_count": 17,
     "metadata": {},
     "output_type": "execute_result"
    }
   ],
   "source": [
    "p.get_text()"
   ]
  },
  {
   "cell_type": "code",
   "execution_count": 19,
   "metadata": {
    "collapsed": false
   },
   "outputs": [
    {
     "data": {
      "text/plain": [
       "'Here is some simple content for this page.'"
      ]
     },
     "execution_count": 19,
     "metadata": {},
     "output_type": "execute_result"
    }
   ],
   "source": [
    "soup.find('p').get_text()\n"
   ]
  },
  {
   "cell_type": "code",
   "execution_count": 20,
   "metadata": {
    "collapsed": false
   },
   "outputs": [
    {
     "data": {
      "text/plain": [
       "<html>\n",
       "<head>\n",
       "<title>A simple example page</title>\n",
       "</head>\n",
       "<body>\n",
       "<div>\n",
       "<p class=\"inner-text first-item\" id=\"first\">\n",
       "                First paragraph.\n",
       "            </p>\n",
       "<p class=\"inner-text\">\n",
       "                Second paragraph.\n",
       "            </p>\n",
       "</div>\n",
       "<p class=\"outer-text first-item\" id=\"second\">\n",
       "<b>\n",
       "                First outer paragraph.\n",
       "            </b>\n",
       "</p>\n",
       "<p class=\"outer-text\">\n",
       "<b>\n",
       "                Second outer paragraph.\n",
       "            </b>\n",
       "</p>\n",
       "</body>\n",
       "</html>"
      ]
     },
     "execution_count": 20,
     "metadata": {},
     "output_type": "execute_result"
    }
   ],
   "source": [
    "page = requests.get(\"http://dataquestio.github.io/web-scraping-pages/ids_and_classes.html\")\n",
    "soup = BeautifulSoup(page.content, 'html.parser')\n",
    "soup"
   ]
  },
  {
   "cell_type": "code",
   "execution_count": 21,
   "metadata": {
    "collapsed": false
   },
   "outputs": [
    {
     "data": {
      "text/plain": [
       "[<p class=\"outer-text first-item\" id=\"second\">\n",
       " <b>\n",
       "                 First outer paragraph.\n",
       "             </b>\n",
       " </p>, <p class=\"outer-text\">\n",
       " <b>\n",
       "                 Second outer paragraph.\n",
       "             </b>\n",
       " </p>]"
      ]
     },
     "execution_count": 21,
     "metadata": {},
     "output_type": "execute_result"
    }
   ],
   "source": [
    "soup.find_all('p', class_='outer-text')\n"
   ]
  },
  {
   "cell_type": "code",
   "execution_count": 22,
   "metadata": {
    "collapsed": false
   },
   "outputs": [
    {
     "data": {
      "text/plain": [
       "[<p class=\"outer-text first-item\" id=\"second\">\n",
       " <b>\n",
       "                 First outer paragraph.\n",
       "             </b>\n",
       " </p>, <p class=\"outer-text\">\n",
       " <b>\n",
       "                 Second outer paragraph.\n",
       "             </b>\n",
       " </p>]"
      ]
     },
     "execution_count": 22,
     "metadata": {},
     "output_type": "execute_result"
    }
   ],
   "source": [
    "soup.find_all(class_=\"outer-text\")\n"
   ]
  },
  {
   "cell_type": "code",
   "execution_count": 26,
   "metadata": {
    "collapsed": false
   },
   "outputs": [
    {
     "data": {
      "text/plain": [
       "[<p class=\"inner-text first-item\" id=\"first\">\n",
       "                 First paragraph.\n",
       "             </p>]"
      ]
     },
     "execution_count": 26,
     "metadata": {},
     "output_type": "execute_result"
    }
   ],
   "source": [
    "soup.find_all(id=\"first\")"
   ]
  },
  {
   "cell_type": "code",
   "execution_count": 27,
   "metadata": {
    "collapsed": false
   },
   "outputs": [
    {
     "data": {
      "text/plain": [
       "[<p class=\"inner-text first-item\" id=\"first\">\n",
       "                 First paragraph.\n",
       "             </p>, <p class=\"inner-text\">\n",
       "                 Second paragraph.\n",
       "             </p>]"
      ]
     },
     "execution_count": 27,
     "metadata": {},
     "output_type": "execute_result"
    }
   ],
   "source": [
    "soup.select(\"div p\")\n"
   ]
  },
  {
   "cell_type": "code",
   "execution_count": 28,
   "metadata": {
    "collapsed": false
   },
   "outputs": [
    {
     "data": {
      "text/plain": [
       "[<p class=\"inner-text first-item\" id=\"first\">\n",
       "                 First paragraph.\n",
       "             </p>]"
      ]
     },
     "execution_count": 28,
     "metadata": {},
     "output_type": "execute_result"
    }
   ],
   "source": [
    "soup.select(\"p#first\")\n"
   ]
  },
  {
   "cell_type": "code",
   "execution_count": 33,
   "metadata": {
    "collapsed": false
   },
   "outputs": [
    {
     "name": "stdout",
     "output_type": "stream",
     "text": [
      "<div class=\"tombstone-container\">\n",
      " <p class=\"period-name\">\n",
      "  This\n",
      "  <br>\n",
      "   Afternoon\n",
      "  </br>\n",
      " </p>\n",
      " <p>\n",
      "  <img alt=\"This Afternoon: A 30 percent chance of showers.  Mostly sunny, with a high near 55. West wind around 15 mph, with gusts as high as 20 mph. \" class=\"forecast-icon\" src=\"newimages/medium/hi_shwrs30.png\" title=\"This Afternoon: A 30 percent chance of showers.  Mostly sunny, with a high near 55. West wind around 15 mph, with gusts as high as 20 mph. \"/>\n",
      " </p>\n",
      " <p class=\"short-desc\">\n",
      "  Chance\n",
      "  <br>\n",
      "   Showers\n",
      "  </br>\n",
      " </p>\n",
      " <p class=\"temp temp-high\">\n",
      "  High: 55 °F\n",
      " </p>\n",
      "</div>\n"
     ]
    }
   ],
   "source": [
    "page = requests.get(\"http://forecast.weather.gov/MapClick.php?lat=37.7772&lon=-122.4168\")\n",
    "soup = BeautifulSoup(page.content, 'html.parser')\n",
    "seven_day = soup.find(id=\"seven-day-forecast\")\n",
    "forecast_items = seven_day.find_all(class_=\"tombstone-container\")\n",
    "tonight = forecast_items[0]\n",
    "print(tonight.prettify())"
   ]
  },
  {
   "cell_type": "code",
   "execution_count": 34,
   "metadata": {
    "collapsed": false
   },
   "outputs": [
    {
     "name": "stdout",
     "output_type": "stream",
     "text": [
      "ThisAfternoon\n",
      "ChanceShowers\n",
      "High: 55 °F\n"
     ]
    }
   ],
   "source": [
    "period = tonight.find(class_=\"period-name\").get_text()\n",
    "short_desc = tonight.find(class_=\"short-desc\").get_text()\n",
    "temp = tonight.find(class_=\"temp\").get_text()\n",
    "\n",
    "print(period)\n",
    "print(short_desc)\n",
    "print(temp)"
   ]
  },
  {
   "cell_type": "code",
   "execution_count": 35,
   "metadata": {
    "collapsed": false
   },
   "outputs": [
    {
     "name": "stdout",
     "output_type": "stream",
     "text": [
      "This Afternoon: A 30 percent chance of showers.  Mostly sunny, with a high near 55. West wind around 15 mph, with gusts as high as 20 mph. \n"
     ]
    }
   ],
   "source": [
    "img = tonight.find(\"img\")\n",
    "desc = img['title']\n",
    "\n",
    "print(desc)"
   ]
  },
  {
   "cell_type": "code",
   "execution_count": 36,
   "metadata": {
    "collapsed": false
   },
   "outputs": [
    {
     "data": {
      "text/plain": [
       "['ThisAfternoon',\n",
       " 'Tonight',\n",
       " 'Monday',\n",
       " 'MondayNight',\n",
       " 'Tuesday',\n",
       " 'TuesdayNight',\n",
       " 'Wednesday',\n",
       " 'WednesdayNight',\n",
       " 'Thursday']"
      ]
     },
     "execution_count": 36,
     "metadata": {},
     "output_type": "execute_result"
    }
   ],
   "source": [
    "period_tags = seven_day.select(\".tombstone-container .period-name\")\n",
    "periods = [pt.get_text() for pt in period_tags]\n",
    "periods"
   ]
  },
  {
   "cell_type": "code",
   "execution_count": 37,
   "metadata": {
    "collapsed": false
   },
   "outputs": [
    {
     "name": "stdout",
     "output_type": "stream",
     "text": [
      "['ChanceShowers', 'ShowersLikely', 'Slight ChanceShowers', 'Partly Cloudy', 'Sunny', 'Mostly Clear', 'Sunny', 'Clear', 'Sunny']\n",
      "['High: 55 °F', 'Low: 45 °F', 'High: 54 °F', 'Low: 43 °F', 'High: 57 °F', 'Low: 45 °F', 'High: 59 °F', 'Low: 47 °F', 'High: 59 °F']\n",
      "['This Afternoon: A 30 percent chance of showers.  Mostly sunny, with a high near 55. West wind around 15 mph, with gusts as high as 20 mph. ', 'Tonight: Showers likely, mainly after 10pm.  Mostly cloudy, with a low around 45. West northwest wind 7 to 14 mph, with gusts as high as 18 mph.  Chance of precipitation is 60%. New precipitation amounts of less than a tenth of an inch possible. ', 'Monday: A 20 percent chance of showers.  Mostly sunny, with a high near 54. North northwest wind 7 to 13 mph.  New precipitation amounts of less than a tenth of an inch possible. ', 'Monday Night: Partly cloudy, with a low around 43. Northwest wind 11 to 14 mph, with gusts as high as 18 mph. ', 'Tuesday: Sunny, with a high near 57. North wind 9 to 11 mph. ', 'Tuesday Night: Mostly clear, with a low around 45.', 'Wednesday: Sunny, with a high near 59.', 'Wednesday Night: Clear, with a low around 47.', 'Thursday: Sunny, with a high near 59.']\n"
     ]
    }
   ],
   "source": [
    "short_descs = [sd.get_text() for sd in seven_day.select(\".tombstone-container .short-desc\")]\n",
    "temps = [t.get_text() for t in seven_day.select(\".tombstone-container .temp\")]\n",
    "descs = [d[\"title\"] for d in seven_day.select(\".tombstone-container img\")]\n",
    "\n",
    "print(short_descs)\n",
    "print(temps)\n",
    "print(descs)"
   ]
  },
  {
   "cell_type": "code",
   "execution_count": 38,
   "metadata": {
    "collapsed": false
   },
   "outputs": [
    {
     "data": {
      "text/html": [
       "<div>\n",
       "<table border=\"1\" class=\"dataframe\">\n",
       "  <thead>\n",
       "    <tr style=\"text-align: right;\">\n",
       "      <th></th>\n",
       "      <th>desc</th>\n",
       "      <th>period</th>\n",
       "      <th>short_desc</th>\n",
       "      <th>temp</th>\n",
       "    </tr>\n",
       "  </thead>\n",
       "  <tbody>\n",
       "    <tr>\n",
       "      <th>0</th>\n",
       "      <td>This Afternoon: A 30 percent chance of showers...</td>\n",
       "      <td>ThisAfternoon</td>\n",
       "      <td>ChanceShowers</td>\n",
       "      <td>High: 55 °F</td>\n",
       "    </tr>\n",
       "    <tr>\n",
       "      <th>1</th>\n",
       "      <td>Tonight: Showers likely, mainly after 10pm.  M...</td>\n",
       "      <td>Tonight</td>\n",
       "      <td>ShowersLikely</td>\n",
       "      <td>Low: 45 °F</td>\n",
       "    </tr>\n",
       "    <tr>\n",
       "      <th>2</th>\n",
       "      <td>Monday: A 20 percent chance of showers.  Mostl...</td>\n",
       "      <td>Monday</td>\n",
       "      <td>Slight ChanceShowers</td>\n",
       "      <td>High: 54 °F</td>\n",
       "    </tr>\n",
       "    <tr>\n",
       "      <th>3</th>\n",
       "      <td>Monday Night: Partly cloudy, with a low around...</td>\n",
       "      <td>MondayNight</td>\n",
       "      <td>Partly Cloudy</td>\n",
       "      <td>Low: 43 °F</td>\n",
       "    </tr>\n",
       "    <tr>\n",
       "      <th>4</th>\n",
       "      <td>Tuesday: Sunny, with a high near 57. North win...</td>\n",
       "      <td>Tuesday</td>\n",
       "      <td>Sunny</td>\n",
       "      <td>High: 57 °F</td>\n",
       "    </tr>\n",
       "    <tr>\n",
       "      <th>5</th>\n",
       "      <td>Tuesday Night: Mostly clear, with a low around...</td>\n",
       "      <td>TuesdayNight</td>\n",
       "      <td>Mostly Clear</td>\n",
       "      <td>Low: 45 °F</td>\n",
       "    </tr>\n",
       "    <tr>\n",
       "      <th>6</th>\n",
       "      <td>Wednesday: Sunny, with a high near 59.</td>\n",
       "      <td>Wednesday</td>\n",
       "      <td>Sunny</td>\n",
       "      <td>High: 59 °F</td>\n",
       "    </tr>\n",
       "    <tr>\n",
       "      <th>7</th>\n",
       "      <td>Wednesday Night: Clear, with a low around 47.</td>\n",
       "      <td>WednesdayNight</td>\n",
       "      <td>Clear</td>\n",
       "      <td>Low: 47 °F</td>\n",
       "    </tr>\n",
       "    <tr>\n",
       "      <th>8</th>\n",
       "      <td>Thursday: Sunny, with a high near 59.</td>\n",
       "      <td>Thursday</td>\n",
       "      <td>Sunny</td>\n",
       "      <td>High: 59 °F</td>\n",
       "    </tr>\n",
       "  </tbody>\n",
       "</table>\n",
       "</div>"
      ],
      "text/plain": [
       "                                                desc          period  \\\n",
       "0  This Afternoon: A 30 percent chance of showers...   ThisAfternoon   \n",
       "1  Tonight: Showers likely, mainly after 10pm.  M...         Tonight   \n",
       "2  Monday: A 20 percent chance of showers.  Mostl...          Monday   \n",
       "3  Monday Night: Partly cloudy, with a low around...     MondayNight   \n",
       "4  Tuesday: Sunny, with a high near 57. North win...         Tuesday   \n",
       "5  Tuesday Night: Mostly clear, with a low around...    TuesdayNight   \n",
       "6             Wednesday: Sunny, with a high near 59.       Wednesday   \n",
       "7      Wednesday Night: Clear, with a low around 47.  WednesdayNight   \n",
       "8              Thursday: Sunny, with a high near 59.        Thursday   \n",
       "\n",
       "             short_desc         temp  \n",
       "0         ChanceShowers  High: 55 °F  \n",
       "1         ShowersLikely   Low: 45 °F  \n",
       "2  Slight ChanceShowers  High: 54 °F  \n",
       "3         Partly Cloudy   Low: 43 °F  \n",
       "4                 Sunny  High: 57 °F  \n",
       "5          Mostly Clear   Low: 45 °F  \n",
       "6                 Sunny  High: 59 °F  \n",
       "7                 Clear   Low: 47 °F  \n",
       "8                 Sunny  High: 59 °F  "
      ]
     },
     "execution_count": 38,
     "metadata": {},
     "output_type": "execute_result"
    }
   ],
   "source": [
    "import pandas as pd\n",
    "weather = pd.DataFrame({\n",
    "        \"period\": periods, \n",
    "        \"short_desc\": short_descs, \n",
    "        \"temp\": temps, \n",
    "        \"desc\":descs\n",
    "    })\n",
    "weather"
   ]
  },
  {
   "cell_type": "code",
   "execution_count": 39,
   "metadata": {
    "collapsed": false
   },
   "outputs": [
    {
     "data": {
      "text/plain": [
       "0    55\n",
       "1    45\n",
       "2    54\n",
       "3    43\n",
       "4    57\n",
       "5    45\n",
       "6    59\n",
       "7    47\n",
       "8    59\n",
       "Name: temp_num, dtype: object"
      ]
     },
     "execution_count": 39,
     "metadata": {},
     "output_type": "execute_result"
    }
   ],
   "source": [
    "temp_nums = weather[\"temp\"].str.extract(\"(?P<temp_num>\\d+)\", expand=False)\n",
    "weather[\"temp_num\"] = temp_nums.astype('int')\n",
    "temp_nums"
   ]
  },
  {
   "cell_type": "code",
   "execution_count": 40,
   "metadata": {
    "collapsed": false
   },
   "outputs": [
    {
     "data": {
      "text/plain": [
       "51.555555555555557"
      ]
     },
     "execution_count": 40,
     "metadata": {},
     "output_type": "execute_result"
    }
   ],
   "source": [
    "weather[\"temp_num\"].mean()\n"
   ]
  },
  {
   "cell_type": "code",
   "execution_count": 41,
   "metadata": {
    "collapsed": false
   },
   "outputs": [
    {
     "data": {
      "text/plain": [
       "0    False\n",
       "1     True\n",
       "2    False\n",
       "3     True\n",
       "4    False\n",
       "5     True\n",
       "6    False\n",
       "7     True\n",
       "8    False\n",
       "Name: temp, dtype: bool"
      ]
     },
     "execution_count": 41,
     "metadata": {},
     "output_type": "execute_result"
    }
   ],
   "source": [
    "is_night = weather[\"temp\"].str.contains(\"Low\")\n",
    "weather[\"is_night\"] = is_night\n",
    "is_night"
   ]
  },
  {
   "cell_type": "code",
   "execution_count": 42,
   "metadata": {
    "collapsed": false
   },
   "outputs": [
    {
     "data": {
      "text/html": [
       "<div>\n",
       "<table border=\"1\" class=\"dataframe\">\n",
       "  <thead>\n",
       "    <tr style=\"text-align: right;\">\n",
       "      <th></th>\n",
       "      <th>desc</th>\n",
       "      <th>period</th>\n",
       "      <th>short_desc</th>\n",
       "      <th>temp</th>\n",
       "      <th>temp_num</th>\n",
       "      <th>is_night</th>\n",
       "    </tr>\n",
       "  </thead>\n",
       "  <tbody>\n",
       "    <tr>\n",
       "      <th>1</th>\n",
       "      <td>Tonight: Showers likely, mainly after 10pm.  M...</td>\n",
       "      <td>Tonight</td>\n",
       "      <td>ShowersLikely</td>\n",
       "      <td>Low: 45 °F</td>\n",
       "      <td>45</td>\n",
       "      <td>True</td>\n",
       "    </tr>\n",
       "    <tr>\n",
       "      <th>3</th>\n",
       "      <td>Monday Night: Partly cloudy, with a low around...</td>\n",
       "      <td>MondayNight</td>\n",
       "      <td>Partly Cloudy</td>\n",
       "      <td>Low: 43 °F</td>\n",
       "      <td>43</td>\n",
       "      <td>True</td>\n",
       "    </tr>\n",
       "    <tr>\n",
       "      <th>5</th>\n",
       "      <td>Tuesday Night: Mostly clear, with a low around...</td>\n",
       "      <td>TuesdayNight</td>\n",
       "      <td>Mostly Clear</td>\n",
       "      <td>Low: 45 °F</td>\n",
       "      <td>45</td>\n",
       "      <td>True</td>\n",
       "    </tr>\n",
       "    <tr>\n",
       "      <th>7</th>\n",
       "      <td>Wednesday Night: Clear, with a low around 47.</td>\n",
       "      <td>WednesdayNight</td>\n",
       "      <td>Clear</td>\n",
       "      <td>Low: 47 °F</td>\n",
       "      <td>47</td>\n",
       "      <td>True</td>\n",
       "    </tr>\n",
       "  </tbody>\n",
       "</table>\n",
       "</div>"
      ],
      "text/plain": [
       "                                                desc          period  \\\n",
       "1  Tonight: Showers likely, mainly after 10pm.  M...         Tonight   \n",
       "3  Monday Night: Partly cloudy, with a low around...     MondayNight   \n",
       "5  Tuesday Night: Mostly clear, with a low around...    TuesdayNight   \n",
       "7      Wednesday Night: Clear, with a low around 47.  WednesdayNight   \n",
       "\n",
       "      short_desc        temp  temp_num is_night  \n",
       "1  ShowersLikely  Low: 45 °F        45     True  \n",
       "3  Partly Cloudy  Low: 43 °F        43     True  \n",
       "5   Mostly Clear  Low: 45 °F        45     True  \n",
       "7          Clear  Low: 47 °F        47     True  "
      ]
     },
     "execution_count": 42,
     "metadata": {},
     "output_type": "execute_result"
    }
   ],
   "source": [
    "weather[is_night]\n"
   ]
  },
  {
   "cell_type": "code",
   "execution_count": null,
   "metadata": {
    "collapsed": true
   },
   "outputs": [],
   "source": []
  }
 ],
 "metadata": {
  "kernelspec": {
   "display_name": "Python 3",
   "language": "python",
   "name": "python3"
  },
  "language_info": {
   "codemirror_mode": {
    "name": "ipython",
    "version": 3
   },
   "file_extension": ".py",
   "mimetype": "text/x-python",
   "name": "python",
   "nbconvert_exporter": "python",
   "pygments_lexer": "ipython3",
   "version": "3.5.2"
  }
 },
 "nbformat": 4,
 "nbformat_minor": 2
}
