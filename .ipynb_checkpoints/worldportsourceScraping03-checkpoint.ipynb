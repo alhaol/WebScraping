{
 "cells": [
  {
   "cell_type": "code",
   "execution_count": 1,
   "metadata": {
    "collapsed": true
   },
   "outputs": [],
   "source": [
    "# http://www.worldportsource.com/ports/CAN_Fraser_River_Port_194.php"
   ]
  },
  {
   "cell_type": "code",
   "execution_count": 2,
   "metadata": {
    "collapsed": false
   },
   "outputs": [
    {
     "name": "stdout",
     "output_type": "stream",
     "text": [
      "Site downloaded successfully\n"
     ]
    }
   ],
   "source": [
    "import urllib.request\n",
    "import requests\n",
    "from bs4 import BeautifulSoup\n",
    "import urllib.request\n",
    "import csv\n",
    "\n",
    "#url = \"http://www.worldportsource.com/ports/CAN_Port_of_Nanaimo_196.php\"\n",
    "#url='http://www.worldportsource.com/ports/CAN_Port_Credit_3997.php'\n",
    "#url = \"http://www.worldportsource.com/ports/CAN_Fraser_River_Port_194.php\"\n",
    "#url=\"http://www.worldportsource.com/ports/CAN_Port_of_Sarnia_2641.php\"\n",
    "url=\"http://www.worldportsource.com/ports/KEN_Port_of_Lamu_2916.php\"\n",
    "headers = {'User-Agent': 'Mozilla/5.0 (Macintosh; Intel Mac OS X 10_11_5) AppleWebKit/537.36 (KHTML, like Gecko) Chrome/50.0.2661.102 Safari/537.36'}\n",
    "page=requests.get(url,headers=headers)\n",
    "if page.status_code==200:\n",
    "        print (\"Site downloaded successfully\")"
   ]
  },
  {
   "cell_type": "code",
   "execution_count": 3,
   "metadata": {
    "collapsed": false
   },
   "outputs": [],
   "source": [
    "soup = BeautifulSoup(page.content, 'html.parser')\n"
   ]
  },
  {
   "cell_type": "code",
   "execution_count": 4,
   "metadata": {
    "collapsed": false
   },
   "outputs": [],
   "source": [
    "table=soup.find('table', class_='form')"
   ]
  },
  {
   "cell_type": "code",
   "execution_count": 5,
   "metadata": {
    "collapsed": false,
    "scrolled": true
   },
   "outputs": [
    {
     "name": "stdout",
     "output_type": "stream",
     "text": [
      "Lamu\n",
      "Port of Lamu\n",
      "40° 54' 9\" E\n",
      "2° 16' 5\" S\n",
      "KELAU\n",
      "P.O Box 95009MombasaKenya\n"
     ]
    }
   ],
   "source": [
    "PortLocation=table.find_all('tr')[1].find_all('td')[1].text\n",
    "PortName=table.find_all('tr')[2].find_all('td')[1].text\n",
    "PortAuth=table.find_all('tr')[3].find_all('td')[1].text\n",
    "PortAddress=table.find_all('tr')[4].find_all('td')[1].text\n",
    "PortPhone=table.find_all('tr')[5].find_all('td')[1].text\n",
    "PortFax=table.find_all('tr')[6].find_all('td')[1].text\n",
    "Port800Num=table.find_all('tr')[7].find_all('td')[1].text\n",
    "PortEmail=table.find_all('tr')[8].find_all('td')[1].text\n",
    "PortWeb=table.find_all('tr')[9].find_all('td')[1].text\n",
    "PortLat=table.find_all('tr')[10].find_all('td')[1].text\n",
    "PortLong=table.find_all('tr')[11].find_all('td')[1].text\n",
    "PortLOCODE=table.find_all('tr')[12].find_all('td')[1].text\n",
    "PortType=table.find_all('tr')[13].find_all('td')[1].text\n",
    "PortSize=table.find_all('tr')[14].find_all('td')[1].text\n",
    "\n",
    "print(PortLocation)\n",
    "print(PortName)\n",
    "print(PortLong)\n",
    "print(PortLat)\n",
    "print(PortLOCODE)\n",
    "print(PortAddress)"
   ]
  },
  {
   "cell_type": "code",
   "execution_count": 35,
   "metadata": {
    "collapsed": false
   },
   "outputs": [],
   "source": [
    "import urllib.request\n",
    "import requests\n",
    "from bs4 import BeautifulSoup\n",
    "import urllib.request\n",
    "import csv\n",
    "\n",
    "url='http://www.worldportsource.com/countries.php'\n",
    "headers = {'User-Agent': 'Mozilla/5.0 (Macintosh; Intel Mac OS X 10_11_5) AppleWebKit/537.36 (KHTML, like Gecko) Chrome/50.0.2661.102 Safari/537.36'}\n",
    "page=requests.get(url,headers=headers)\n",
    "if page.status_code!=200:\n",
    "        print (\"Site Failed\", url)\n",
    "soup = BeautifulSoup(page.content, 'html.parser')\n",
    "table=soup.find('table', class_='form')\n",
    "DD=table.find_all('tr')[2].find_all('a', href=True)\n",
    "Links=[DD[i]['href'] for i in range(len(DD)) ]\n",
    "LinksCount=['http://www.worldportsource.com'+Links[i] for i in range (len(Links)) if len(str(Links[i]))>10]\n",
    "\n",
    "# Saving the list of countries links in CSV file ListofContryLinks_World_port_source.csv\n",
    "myfile = open('ListofContryLinks_World_port_source.csv', 'w')\n",
    "wr = csv.writer(myfile, quoting=csv.QUOTE_ALL)\n",
    "wr.writerow(LinksCount)\n",
    "myfile.close()\n"
   ]
  },
  {
   "cell_type": "code",
   "execution_count": 42,
   "metadata": {
    "collapsed": false
   },
   "outputs": [
    {
     "name": "stdout",
     "output_type": "stream",
     "text": [
      "Number of countries= 196\n"
     ]
    }
   ],
   "source": [
    "# Reading the list from CSV file \n",
    "import csv\n",
    "with open('ListofContryLinks_World_port_source.csv', 'r') as f:\n",
    "    reader = csv.reader(f)\n",
    "    The_list = list(reader)\n",
    "LinksCount=The_list[0]\n",
    "print (\"Number of countries=\",len(LinksCount))"
   ]
  },
  {
   "cell_type": "code",
   "execution_count": 51,
   "metadata": {
    "collapsed": false
   },
   "outputs": [
    {
     "name": "stdout",
     "output_type": "stream",
     "text": [
      "Number of port links available 5195\n"
     ]
    }
   ],
   "source": [
    "import urllib.request\n",
    "import requests\n",
    "from bs4 import BeautifulSoup\n",
    "import urllib.request\n",
    "import csv\n",
    "\n",
    "LinkPorts=[]\n",
    "for kk in range (len(LinksCount)):\n",
    "    url=LinksCount[kk]\n",
    "    headers = {'User-Agent': 'Mozilla/5.0 (Macintosh; Intel Mac OS X 10_11_5) AppleWebKit/537.36 (KHTML, like Gecko) Chrome/50.0.2661.102 Safari/537.36'}\n",
    "    page=requests.get(url,headers=headers)\n",
    "    if page.status_code!=200:\n",
    "        print (\"Site downloaded Failed \"+url)\n",
    "    soup = BeautifulSoup(page.content, 'html.parser')\n",
    "    table=soup.find_all('table', class_='form')[0].find_all('a',href=True)\n",
    "    Links=[table[i]['href'] for i in range(len(table)) ]\n",
    "    LinksPorts_kk=[Links[i] for i in range (len(Links)) if len(str(Links[i]))>10]\n",
    "    LinkPorts.extend(LinksPorts_kk) \n",
    "    \n",
    "LinksPortsUpdate=['http://www.worldportsource.com'+LinkPorts[i] for i in range (len(LinkPorts)) if len(str(LinkPorts[i]))>10]\n",
    "print(\"Number of port links available\", len(LinksPortsUpdate))"
   ]
  },
  {
   "cell_type": "code",
   "execution_count": 52,
   "metadata": {
    "collapsed": true
   },
   "outputs": [],
   "source": [
    "# Saving the list of port links in CSV file ListofPortsLinks_World_port_source.csv\n",
    "myfile = open('ListofPortsLinks_World_port_source.csv', 'w')\n",
    "wr = csv.writer(myfile, quoting=csv.QUOTE_ALL)\n",
    "wr.writerow(LinksPortsUpdate)\n",
    "myfile.close()"
   ]
  },
  {
   "cell_type": "code",
   "execution_count": 55,
   "metadata": {
    "collapsed": false
   },
   "outputs": [
    {
     "name": "stdout",
     "output_type": "stream",
     "text": [
      "Number of Ports= 5195\n"
     ]
    }
   ],
   "source": [
    "# Reading the list from CSV file \n",
    "LinksPortsUpdate=[]\n",
    "import csv\n",
    "with open('ListofPortsLinks_World_port_source.csv', 'r') as f:\n",
    "    reader = csv.reader(f)\n",
    "    The_list= list(reader)\n",
    "LinksPortsUpdate =The_list[0]\n",
    "print (\"Number of Ports=\",len(LinksPortsUpdate))"
   ]
  },
  {
   "cell_type": "code",
   "execution_count": 169,
   "metadata": {
    "collapsed": true
   },
   "outputs": [],
   "source": [
    "import urllib.request\n",
    "import requests\n",
    "from bs4 import BeautifulSoup\n",
    "import urllib.request\n",
    "import csv\n",
    "from pandas import DataFrame as df\n",
    "\n",
    "PortLocation=[]\n",
    "PortName=[]\n",
    "PortAuth=[]\n",
    "PortAddress=[]\n",
    "PortPhone=[]\n",
    "PortFax=[]\n",
    "Port800Num=[]\n",
    "PortEmail=[]\n",
    "PortWeb=[]\n",
    "PortLat=[]\n",
    "PortLong=[]\n",
    "PortLOCODE=[]\n",
    "PortType=[]\n",
    "PortSize=[]\n"
   ]
  },
  {
   "cell_type": "code",
   "execution_count": 170,
   "metadata": {
    "collapsed": false,
    "scrolled": true
   },
   "outputs": [
    {
     "name": "stdout",
     "output_type": "stream",
     "text": [
      "Oops!  Port http://www.worldportsource.com/ports/ALB_Port_of_Vlore_2184.php was not found .. skip to next...\n",
      "Oops! Port http://www.worldportsource.com/ports/review/DZA_Port_of_Algiers_1419.php has no table .. skip to next...\n",
      "Oops! Port http://www.worldportsource.com/ports/review/DZA_Port_of_Annaba_1420.php has no table .. skip to next...\n",
      "Oops! Port http://www.worldportsource.com/ports/review/DZA_Port_of_Bejaia_1418.php has no table .. skip to next...\n",
      "Number of port that we failed to download are  4  out of 5195 ports\n"
     ]
    }
   ],
   "source": [
    "def InsertNAN(x):\n",
    "    if len(x)==0:\n",
    "        return 'NAN'\n",
    "    return x\n",
    "\n",
    "zz=0\n",
    "for i in range(len(LinksPortsUpdate)):\n",
    "    url=LinksPortsUpdate[i]\n",
    "    #print(url)\n",
    "    headers = {'User-Agent': 'Mozilla/5.0 (Macintosh; Intel Mac OS X 10_11_5) AppleWebKit/537.36 (KHTML, like Gecko) Chrome/50.0.2661.102 Safari/537.36'}\n",
    "    page=requests.get(url,headers=headers)\n",
    "    if page.status_code!=200:\n",
    "        print (url+\"Site downloaded Failed\")\n",
    "    soup = BeautifulSoup(page.content, 'html.parser')\n",
    "    table=soup.find('table', class_='form')\n",
    "    \n",
    "    try:\n",
    "        try:\n",
    "            '''\n",
    "            print(len(InsertNAN(table.find_all('tr')[1].find_all('td')[1].text)))\n",
    "            print(len(InsertNAN(table.find_all('tr')[2].find_all('td')[1].text)))\n",
    "            print(len(InsertNAN(table.find_all('tr')[3].find_all('td')[1].text)))\n",
    "            print(len(InsertNAN(table.find_all('tr')[4].find_all('td')[1].text)))\n",
    "            print(len(InsertNAN(table.find_all('tr')[5].find_all('td')[1].text)))\n",
    "            print(len(InsertNAN(table.find_all('tr')[6].find_all('td')[1].text)))\n",
    "            print(len(InsertNAN(table.find_all('tr')[7].find_all('td')[1].text)))\n",
    "            print(len(InsertNAN(table.find_all('tr')[8].find_all('td')[1].text)))\n",
    "            print(len(InsertNAN(table.find_all('tr')[9].find_all('td')[1].text)))\n",
    "            print(len(InsertNAN(table.find_all('tr')[10].find_all('td')[1].text)))\n",
    "            print(len(InsertNAN(table.find_all('tr')[11].find_all('td')[1].text)))\n",
    "            print(len(InsertNAN(table.find_all('tr')[12].find_all('td')[1].text)))\n",
    "            print(len(InsertNAN(table.find_all('tr')[13].find_all('td')[1].text)))\n",
    "            print(len(InsertNAN(table.find_all('tr')[14].find_all('td')[1].text)))\n",
    "            '''\n",
    "            \n",
    "            PortLocation1=InsertNAN(table.find_all('tr')[1].find_all('td')[1].text)\n",
    "            PortName1=InsertNAN(table.find_all('tr')[2].find_all('td')[1].text)\n",
    "            PortAuth1=InsertNAN(table.find_all('tr')[3].find_all('td')[1].text)\n",
    "            PortAddress1=InsertNAN(table.find_all('tr')[4].find_all('td')[1].text)\n",
    "            PortPhone1=InsertNAN(table.find_all('tr')[5].find_all('td')[1].text)\n",
    "            PortFax1=InsertNAN(table.find_all('tr')[6].find_all('td')[1].text)\n",
    "            Port800Num1=InsertNAN(table.find_all('tr')[7].find_all('td')[1].text)\n",
    "            PortEmail1=InsertNAN(table.find_all('tr')[8].find_all('td')[1].text)\n",
    "            PortWeb1=InsertNAN(table.find_all('tr')[9].find_all('td')[1].text)\n",
    "            PortLat1=InsertNAN(table.find_all('tr')[10].find_all('td')[1].text)\n",
    "            PortLong1=InsertNAN(table.find_all('tr')[11].find_all('td')[1].text)\n",
    "            PortLOCODE1=InsertNAN(table.find_all('tr')[12].find_all('td')[1].text)\n",
    "            PortType1=InsertNAN(table.find_all('tr')[13].find_all('td')[1].text)\n",
    "            PortSize1=InsertNAN(table.find_all('tr')[14].find_all('td')[1].text)\n",
    "            \n",
    "            PortLocation.append( PortLocation1)\n",
    "            PortName.append(PortName1)\n",
    "            PortAuth.append(PortAuth1)\n",
    "            PortAddress.append(PortAddress1)\n",
    "            PortPhone.append(PortPhone1)\n",
    "            PortFax.append(PortFax1)\n",
    "            Port800Num.append(Port800Num1)\n",
    "            PortEmail.append( PortEmail1)\n",
    "            PortWeb.append( PortWeb1)\n",
    "            PortLat.append(PortLat1)\n",
    "            PortLong.append(PortLong1)\n",
    "            PortLOCODE.append(PortLOCODE1)\n",
    "            PortType.append( PortType1)\n",
    "            PortSize.append(PortSize1)\n",
    "        except AttributeError as e:\n",
    "                print(\"Oops! Port \" + LinksPortsUpdate[i] + \" has no table .. skip to next...\")\n",
    "                zz+=1\n",
    "                \n",
    "    except IndexError as e:\n",
    "        print(\"Oops!  Port \" + LinksPortsUpdate[i] + \" was not found .. skip to next...\")\n",
    "        zz+=1\n",
    "print(\"Number of port that we failed to download are \",zz,\" out of\" , len(LinksPortsUpdate),\"ports\")"
   ]
  },
  {
   "cell_type": "code",
   "execution_count": 171,
   "metadata": {
    "collapsed": false,
    "scrolled": true
   },
   "outputs": [
    {
     "data": {
      "text/plain": [
       "'\\nprint(len(PortLocation))\\nprint(len(PortName))\\nprint(len(PortAuth))\\nprint(len(PortAddress))\\nprint(len(PortPhone))\\nprint(len(PortFax))\\nprint(len(Port800Num))\\nprint(len(PortEmail))\\nprint(len(PortWeb))\\nprint(len(PortLat))\\nprint(len(PortLong))\\nprint(len(PortLOCODE))\\nprint(len(PortType))\\nprint(len(PortSize))\\n'"
      ]
     },
     "execution_count": 171,
     "metadata": {},
     "output_type": "execute_result"
    }
   ],
   "source": [
    "'''\n",
    "print(len(PortLocation))\n",
    "print(len(PortName))\n",
    "print(len(PortAuth))\n",
    "print(len(PortAddress))\n",
    "print(len(PortPhone))\n",
    "print(len(PortFax))\n",
    "print(len(Port800Num))\n",
    "print(len(PortEmail))\n",
    "print(len(PortWeb))\n",
    "print(len(PortLat))\n",
    "print(len(PortLong))\n",
    "print(len(PortLOCODE))\n",
    "print(len(PortType))\n",
    "print(len(PortSize))\n",
    "'''"
   ]
  },
  {
   "cell_type": "code",
   "execution_count": 172,
   "metadata": {
    "collapsed": false
   },
   "outputs": [],
   "source": [
    "from pandas import DataFrame as df\n",
    "Port_MetaData = df(\n",
    "    {'01_PortLocation':PortLocation,\n",
    "'02_PortName':PortName,\n",
    "'03_PortAuth':PortAuth,\n",
    "'04_PortAddress':PortAddress,\n",
    "'05_PortPhone':PortPhone,\n",
    "'06_PortFax':PortFax,\n",
    "'07_Port800Num':Port800Num,\n",
    "'08_PortEmail':PortEmail,\n",
    "'09_PortWeb':PortWeb,\n",
    "'10_PortLat':PortLat,\n",
    "'11_PortLong':PortLong,\n",
    "'12_PortLOCODE':PortLOCODE,\n",
    "'13_PortType':PortType,\n",
    "'14_PortSize':PortSize\n",
    "    })"
   ]
  },
  {
   "cell_type": "code",
   "execution_count": 173,
   "metadata": {
    "collapsed": false
   },
   "outputs": [],
   "source": [
    "#Port_MetaData.head(5)"
   ]
  },
  {
   "cell_type": "code",
   "execution_count": 174,
   "metadata": {
    "collapsed": true
   },
   "outputs": [],
   "source": [
    "Port_MetaData.to_csv('Port_MetaData_WordPortSource.csv',  index=False)"
   ]
  },
  {
   "cell_type": "code",
   "execution_count": null,
   "metadata": {
    "collapsed": true
   },
   "outputs": [],
   "source": []
  }
 ],
 "metadata": {
  "kernelspec": {
   "display_name": "Python 3",
   "language": "python",
   "name": "python3"
  },
  "language_info": {
   "codemirror_mode": {
    "name": "ipython",
    "version": 3
   },
   "file_extension": ".py",
   "mimetype": "text/x-python",
   "name": "python",
   "nbconvert_exporter": "python",
   "pygments_lexer": "ipython3",
   "version": "3.5.2"
  }
 },
 "nbformat": 4,
 "nbformat_minor": 2
}
