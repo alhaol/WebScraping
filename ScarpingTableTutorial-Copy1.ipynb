{
 "cells": [
  {
   "cell_type": "markdown",
   "metadata": {},
   "source": [
    "# Scraping Ports"
   ]
  },
  {
   "cell_type": "code",
   "execution_count": 1,
   "metadata": {
    "collapsed": true
   },
   "outputs": [],
   "source": []
  },
  {
   "cell_type": "code",
   "execution_count": 210,
   "metadata": {
    "collapsed": false
   },
   "outputs": [
    {
     "name": "stdout",
     "output_type": "stream",
     "text": [
      "Site downloaded successfully\n"
     ]
    }
   ],
   "source": [
    "import urllib.request\n",
    "import requests\n",
    "from bs4 import BeautifulSoup\n",
    "import urllib.request\n",
    "import csv\n",
    "url = \"http://maritime-database.com/port.php?pid=6000\"\n",
    "headers = {'User-Agent': 'Mozilla/5.0 (Macintosh; Intel Mac OS X 10_11_5) AppleWebKit/537.36 (KHTML, like Gecko) Chrome/50.0.2661.102 Safari/537.36'}\n",
    "page=requests.get(url,headers=headers)\n",
    "if page.status_code==200:\n",
    "        print (\"Site downloaded successfully\")"
   ]
  },
  {
   "cell_type": "code",
   "execution_count": 182,
   "metadata": {
    "collapsed": false
   },
   "outputs": [],
   "source": [
    "# Turn the HTML into a Beautiful Soup object\n",
    "soup = BeautifulSoup(page.content,\"html.parser\")"
   ]
  },
  {
   "cell_type": "code",
   "execution_count": 183,
   "metadata": {
    "collapsed": false,
    "scrolled": true
   },
   "outputs": [],
   "source": [
    "table=soup.find(class_=\"txt\")"
   ]
  },
  {
   "cell_type": "code",
   "execution_count": 185,
   "metadata": {
    "collapsed": false,
    "scrolled": false
   },
   "outputs": [
    {
     "data": {
      "text/plain": [
       "<td valign=\"top\">\n",
       "<b>Port Isabel</b> <br>\n",
       "<b>Port Authority</b> : Port Isabel/San Benito Navigation District<br> <b>Address</b> : PO Box 218<br> <b>State</b> : Texas<br> <b>Zipcode</b> : 78578-0218<br> <b>Town</b> : Port Isabel, TX<br> <b>Country</b> : United States - USA<br> <b>Phone</b> : +1 512 943 7826<br> <b>Fax</b> : +1 512 943 8922<br> <b>Telex</b> : 78578 0218<br>\n",
       "<b>Country time zone</b> : -5/11<br> <b>Port time zone</b> : GMT -6<br>\n",
       "<b>Latitude</b> : 26? 04.0' N<br> <b>Longtitude</b> : 097? 14.0' W<br>\n",
       "<b>Current status</b> : Port Open<br> <b>UNCTAD</b> : USPIS<br>\n",
       "</br></br></br></br></br></br></br></br></br></br></br></br></br></br></br></br></td>"
      ]
     },
     "execution_count": 185,
     "metadata": {},
     "output_type": "execute_result"
    }
   ],
   "source": [
    "row=table.find_all('tr')[3]\n",
    "col = row.find_all('td')[0]\n",
    "col"
   ]
  },
  {
   "cell_type": "code",
   "execution_count": 197,
   "metadata": {
    "collapsed": false,
    "scrolled": true
   },
   "outputs": [
    {
     "data": {
      "text/plain": [
       "[<b>Port Isabel</b>,\n",
       " <b>Port Authority</b>,\n",
       " <b>Address</b>,\n",
       " <b>State</b>,\n",
       " <b>Zipcode</b>,\n",
       " <b>Town</b>,\n",
       " <b>Country</b>,\n",
       " <b>Phone</b>,\n",
       " <b>Fax</b>,\n",
       " <b>Telex</b>,\n",
       " <b>Country time zone</b>,\n",
       " <b>Port time zone</b>,\n",
       " <b>Latitude</b>,\n",
       " <b>Longtitude</b>,\n",
       " <b>Current status</b>,\n",
       " <b>UNCTAD</b>]"
      ]
     },
     "execution_count": 197,
     "metadata": {},
     "output_type": "execute_result"
    }
   ],
   "source": [
    "col.find_all('b')"
   ]
  },
  {
   "cell_type": "code",
   "execution_count": 205,
   "metadata": {
    "collapsed": false,
    "scrolled": true
   },
   "outputs": [
    {
     "data": {
      "text/plain": [
       "['[<b>Port Isabel</b>',\n",
       " ' <b>Port Authority</b>',\n",
       " ' <b>Address</b>',\n",
       " ' <b>State</b>',\n",
       " ' <b>Zipcode</b>',\n",
       " ' <b>Town</b>',\n",
       " ' <b>Country</b>',\n",
       " ' <b>Phone</b>',\n",
       " ' <b>Fax</b>',\n",
       " ' <b>Telex</b>',\n",
       " ' <b>Country time zone</b>',\n",
       " ' <b>Port time zone</b>',\n",
       " ' <b>Latitude</b>',\n",
       " ' <b>Longtitude</b>',\n",
       " ' <b>Current status</b>',\n",
       " ' <b>UNCTAD</b>]']"
      ]
     },
     "execution_count": 205,
     "metadata": {},
     "output_type": "execute_result"
    }
   ],
   "source": [
    "KK=str(col.find_all('b'))\n",
    "ZZ=KK.split(',')\n",
    "ZZ"
   ]
  },
  {
   "cell_type": "code",
   "execution_count": 206,
   "metadata": {
    "collapsed": false
   },
   "outputs": [
    {
     "data": {
      "text/plain": [
       "'Port Isabel'"
      ]
     },
     "execution_count": 206,
     "metadata": {},
     "output_type": "execute_result"
    }
   ],
   "source": [
    "find_between( ZZ[0], '<b>', '</b>' )"
   ]
  },
  {
   "cell_type": "code",
   "execution_count": 176,
   "metadata": {
    "collapsed": false,
    "scrolled": false
   },
   "outputs": [],
   "source": [
    "col1=str(col).split(':')\n",
    "len(col1)\n",
    "col12=[col1[i] for i in range(len(col1)) if i>=0 and i < len(col1)]"
   ]
  },
  {
   "cell_type": "code",
   "execution_count": 139,
   "metadata": {
    "collapsed": false
   },
   "outputs": [
    {
     "data": {
      "text/plain": [
       "['<td valign=\"top\">\\n<b>Crown Point</b> <br>\\n<b>Country</b> ',\n",
       " ' Trinidad &amp; Tobago - TT<br>\\n<b>Country time zone</b> ',\n",
       " ' -4<br> <b>Port time zone</b> ',\n",
       " ' GMT -4<br>\\n<b>Latitude</b> ',\n",
       " \" 11? 09.0' N<br> <b>Longtitude</b> \",\n",
       " \" 060? 51.0' W<br>\\n<b>Current status</b> \",\n",
       " ' Port Open<br>\\n</br></br></br></br></br></br></br></td>']"
      ]
     },
     "execution_count": 139,
     "metadata": {},
     "output_type": "execute_result"
    }
   ],
   "source": [
    "col12"
   ]
  },
  {
   "cell_type": "code",
   "execution_count": 143,
   "metadata": {
    "collapsed": false
   },
   "outputs": [
    {
     "data": {
      "text/plain": [
       "'Crown Point'"
      ]
     },
     "execution_count": 143,
     "metadata": {},
     "output_type": "execute_result"
    }
   ],
   "source": [
    "col12[0].split('<b>')[1].split('</b>')[0]"
   ]
  },
  {
   "cell_type": "code",
   "execution_count": 148,
   "metadata": {
    "collapsed": false,
    "scrolled": true
   },
   "outputs": [
    {
     "data": {
      "text/plain": [
       "' Trinidad &amp; Tobago - TT'"
      ]
     },
     "execution_count": 148,
     "metadata": {},
     "output_type": "execute_result"
    }
   ],
   "source": [
    "col12[1].split('<br>')[0]"
   ]
  },
  {
   "cell_type": "code",
   "execution_count": 149,
   "metadata": {
    "collapsed": false
   },
   "outputs": [
    {
     "data": {
      "text/plain": [
       "' -4'"
      ]
     },
     "execution_count": 149,
     "metadata": {},
     "output_type": "execute_result"
    }
   ],
   "source": [
    "col12[2].split('<br>')[0]"
   ]
  },
  {
   "cell_type": "code",
   "execution_count": 150,
   "metadata": {
    "collapsed": false
   },
   "outputs": [
    {
     "data": {
      "text/plain": [
       "' GMT -4'"
      ]
     },
     "execution_count": 150,
     "metadata": {},
     "output_type": "execute_result"
    }
   ],
   "source": [
    "col12[3].split('<br>')[0]\n"
   ]
  },
  {
   "cell_type": "code",
   "execution_count": 151,
   "metadata": {
    "collapsed": false,
    "scrolled": true
   },
   "outputs": [
    {
     "data": {
      "text/plain": [
       "\" 11? 09.0' N\""
      ]
     },
     "execution_count": 151,
     "metadata": {},
     "output_type": "execute_result"
    }
   ],
   "source": [
    "col12[4].split('<br>')[0]"
   ]
  },
  {
   "cell_type": "code",
   "execution_count": 154,
   "metadata": {
    "collapsed": false,
    "scrolled": true
   },
   "outputs": [
    {
     "data": {
      "text/plain": [
       "\" 060? 51.0' W\""
      ]
     },
     "execution_count": 154,
     "metadata": {},
     "output_type": "execute_result"
    }
   ],
   "source": [
    "col12[5].split('<br>')[0]"
   ]
  },
  {
   "cell_type": "code",
   "execution_count": 155,
   "metadata": {
    "collapsed": false
   },
   "outputs": [
    {
     "data": {
      "text/plain": [
       "' Port Open'"
      ]
     },
     "execution_count": 155,
     "metadata": {},
     "output_type": "execute_result"
    }
   ],
   "source": [
    "col12[6].split('<br>')[0]"
   ]
  },
  {
   "cell_type": "code",
   "execution_count": 177,
   "metadata": {
    "collapsed": false
   },
   "outputs": [],
   "source": [
    "# Port meta Data\n",
    "Port_name = []\n",
    "Country = []\n",
    "Country_time_zone = []\n",
    "Port_time_zone = []\n",
    "Latitude = []\n",
    "Longitude=[]\n",
    "Current_status=[] \n"
   ]
  },
  {
   "cell_type": "code",
   "execution_count": 178,
   "metadata": {
    "collapsed": false
   },
   "outputs": [],
   "source": [
    "soup = BeautifulSoup(page.content,\"html.parser\")\n",
    "table=soup.find(class_=\"txt\")\n",
    "row=table.find_all('tr')[3]\n",
    "col = row.find_all('td')[0]\n",
    "\n",
    "col1=str(col).split(':')\n",
    "len(col1)\n",
    "col12=[col1[i] for i in range(len(col1)) if i>=0 and i < len(col1)]"
   ]
  },
  {
   "cell_type": "code",
   "execution_count": 179,
   "metadata": {
    "collapsed": false
   },
   "outputs": [
    {
     "name": "stdout",
     "output_type": "stream",
     "text": [
      "['Bone']\n",
      "[\" 007? 47.0' E\"]\n",
      "[' Alternative Name']\n"
     ]
    }
   ],
   "source": [
    "Port_name.append(col12[0].split('<b>')[1].split('</b>')[0])\n",
    "Country.append(col12[1].split('<br>')[0] )\n",
    "Country_time_zone.append (col12[2].split('<br>')[0])\n",
    "Port_time_zone.append(col12[3].split('<br>')[0])\n",
    "Latitude.append(col12[4].split('<br>')[0])\n",
    "Longitude.append(col12[5].split('<br>')[0])\n",
    "Current_status.append(col12[6].split('<br>')[0])\n",
    "\n",
    "print(Port_name)\n",
    "print(Longitude)\n",
    "print(Current_status)"
   ]
  },
  {
   "cell_type": "code",
   "execution_count": 11,
   "metadata": {
    "collapsed": false
   },
   "outputs": [],
   "source": [
    "# Create four variables to score the scraped data in\n",
    "first_name = []\n",
    "last_name = []\n",
    "age = []\n",
    "preTestScore = []\n",
    "postTestScore = []\n",
    "\n",
    "# Create an object of the first object that is class=dataframe\n",
    "table = soup.find(class_='dataframe')\n",
    "\n",
    "# Find all the <tr> tag pairs, skip the first one, then for each.\n",
    "for row in table.find_all('tr')[1:]:\n",
    "    # Create a variable of all the <td> tag pairs in each <tr> tag pair,\n",
    "    col = row.find_all('td')\n",
    "    \n",
    "    # Create a variable of the string inside 1st <td> tag pair,\n",
    "    column_1 = col[0].string.strip()\n",
    "    # and append it to first_name variable\n",
    "    first_name.append(column_1)\n",
    "    \n",
    "    # Create a variable of the string inside 2nd <td> tag pair,\n",
    "    column_2 = col[1].string.strip()\n",
    "    # and append it to last_name variable\n",
    "    last_name.append(column_2)\n",
    "    \n",
    "    # Create a variable of the string inside 3rd <td> tag pair,\n",
    "    column_3 = col[2].string.strip()\n",
    "    # and append it to age variable\n",
    "    age.append(column_3)\n",
    "    \n",
    "    # Create a variable of the string inside 4th <td> tag pair,\n",
    "    column_4 = col[3].string.strip()\n",
    "    # and append it to preTestScore variable\n",
    "    preTestScore.append(column_4)\n",
    "    \n",
    "    # Create a variable of the string inside 5th <td> tag pair,\n",
    "    column_5 = col[4].string.strip()\n",
    "    # and append it to postTestScore variable\n",
    "    postTestScore.append(column_5)\n",
    "\n",
    "# Create a variable of the value of the columns\n",
    "columns = {'first_name': first_name, 'last_name': last_name, 'age': age, 'preTestScore': preTestScore, 'postTestScore': postTestScore}\n",
    "\n",
    "# Create a dataframe from the columns variable\n",
    "df = pd.DataFrame(columns)"
   ]
  },
  {
   "cell_type": "code",
   "execution_count": 12,
   "metadata": {
    "collapsed": false
   },
   "outputs": [
    {
     "data": {
      "text/html": [
       "<div>\n",
       "<table border=\"1\" class=\"dataframe\">\n",
       "  <thead>\n",
       "    <tr style=\"text-align: right;\">\n",
       "      <th></th>\n",
       "      <th>age</th>\n",
       "      <th>first_name</th>\n",
       "      <th>last_name</th>\n",
       "      <th>postTestScore</th>\n",
       "      <th>preTestScore</th>\n",
       "    </tr>\n",
       "  </thead>\n",
       "  <tbody>\n",
       "    <tr>\n",
       "      <th>0</th>\n",
       "      <td>42</td>\n",
       "      <td>Jason</td>\n",
       "      <td>Miller</td>\n",
       "      <td>25</td>\n",
       "      <td>4</td>\n",
       "    </tr>\n",
       "    <tr>\n",
       "      <th>1</th>\n",
       "      <td>52</td>\n",
       "      <td>Molly</td>\n",
       "      <td>Jacobson</td>\n",
       "      <td>94</td>\n",
       "      <td>24</td>\n",
       "    </tr>\n",
       "    <tr>\n",
       "      <th>2</th>\n",
       "      <td>36</td>\n",
       "      <td>Tina</td>\n",
       "      <td>Ali</td>\n",
       "      <td>57</td>\n",
       "      <td>31</td>\n",
       "    </tr>\n",
       "    <tr>\n",
       "      <th>3</th>\n",
       "      <td>24</td>\n",
       "      <td>Jake</td>\n",
       "      <td>Milner</td>\n",
       "      <td>62</td>\n",
       "      <td>2</td>\n",
       "    </tr>\n",
       "    <tr>\n",
       "      <th>4</th>\n",
       "      <td>73</td>\n",
       "      <td>Amy</td>\n",
       "      <td>Cooze</td>\n",
       "      <td>70</td>\n",
       "      <td>3</td>\n",
       "    </tr>\n",
       "  </tbody>\n",
       "</table>\n",
       "</div>"
      ],
      "text/plain": [
       "  age first_name last_name postTestScore preTestScore\n",
       "0  42      Jason    Miller            25            4\n",
       "1  52      Molly  Jacobson            94           24\n",
       "2  36       Tina       Ali            57           31\n",
       "3  24       Jake    Milner            62            2\n",
       "4  73        Amy     Cooze            70            3"
      ]
     },
     "execution_count": 12,
     "metadata": {},
     "output_type": "execute_result"
    }
   ],
   "source": [
    "df"
   ]
  },
  {
   "cell_type": "code",
   "execution_count": 196,
   "metadata": {
    "collapsed": false
   },
   "outputs": [
    {
     "name": "stdout",
     "output_type": "stream",
     "text": [
      "123STRING\n",
      "STRINGabc\n"
     ]
    }
   ],
   "source": [
    "s = \"123123STRINGabcabc\"\n",
    "\n",
    "def find_between( s, first, last ):\n",
    "    try:\n",
    "        start = s.index( first ) + len( first )\n",
    "        end = s.index( last, start )\n",
    "        return s[start:end]\n",
    "    except ValueError:\n",
    "        return \"\"\n",
    "\n",
    "def find_between_r( s, first, last ):\n",
    "    try:\n",
    "        start = s.rindex( first ) + len( first )\n",
    "        end = s.rindex( last, start )\n",
    "        return s[start:end]\n",
    "    except ValueError:\n",
    "        return \"\"\n",
    "\n",
    "\n",
    "print (find_between( s, \"123\", \"abc\" ))\n",
    "print (find_between_r( s, \"123\", \"abc\" ))"
   ]
  },
  {
   "cell_type": "code",
   "execution_count": null,
   "metadata": {
    "collapsed": true
   },
   "outputs": [],
   "source": []
  }
 ],
 "metadata": {
  "kernelspec": {
   "display_name": "Python 3",
   "language": "python",
   "name": "python3"
  },
  "language_info": {
   "codemirror_mode": {
    "name": "ipython",
    "version": 3
   },
   "file_extension": ".py",
   "mimetype": "text/x-python",
   "name": "python",
   "nbconvert_exporter": "python",
   "pygments_lexer": "ipython3",
   "version": "3.5.2"
  }
 },
 "nbformat": 4,
 "nbformat_minor": 2
}
