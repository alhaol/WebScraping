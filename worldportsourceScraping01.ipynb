{
 "cells": [
  {
   "cell_type": "code",
   "execution_count": 1,
   "metadata": {
    "collapsed": true
   },
   "outputs": [],
   "source": [
    "# http://www.worldportsource.com/ports/CAN_Fraser_River_Port_194.php"
   ]
  },
  {
   "cell_type": "code",
   "execution_count": 124,
   "metadata": {
    "collapsed": false
   },
   "outputs": [
    {
     "name": "stdout",
     "output_type": "stream",
     "text": [
      "Site downloaded successfully\n"
     ]
    }
   ],
   "source": [
    "import urllib.request\n",
    "import requests\n",
    "from bs4 import BeautifulSoup\n",
    "import urllib.request\n",
    "import csv\n",
    "\n",
    "#url = \"http://www.worldportsource.com/ports/CAN_Port_of_Nanaimo_196.php\"\n",
    "#url='http://www.worldportsource.com/ports/CAN_Port_Credit_3997.php'\n",
    "#url = \"http://www.worldportsource.com/ports/CAN_Fraser_River_Port_194.php\"\n",
    "#url=\"http://www.worldportsource.com/ports/CAN_Port_of_Sarnia_2641.php\"\n",
    "url=\"http://www.worldportsource.com/ports/KEN_Port_of_Lamu_2916.php\"\n",
    "headers = {'User-Agent': 'Mozilla/5.0 (Macintosh; Intel Mac OS X 10_11_5) AppleWebKit/537.36 (KHTML, like Gecko) Chrome/50.0.2661.102 Safari/537.36'}\n",
    "page=requests.get(url,headers=headers)\n",
    "if page.status_code==200:\n",
    "        print (\"Site downloaded successfully\")"
   ]
  },
  {
   "cell_type": "code",
   "execution_count": 125,
   "metadata": {
    "collapsed": false
   },
   "outputs": [],
   "source": [
    "soup = BeautifulSoup(page.content, 'html.parser')\n"
   ]
  },
  {
   "cell_type": "code",
   "execution_count": 126,
   "metadata": {
    "collapsed": false
   },
   "outputs": [],
   "source": [
    "table=soup.find('table', class_='form')"
   ]
  },
  {
   "cell_type": "code",
   "execution_count": 127,
   "metadata": {
    "collapsed": false,
    "scrolled": true
   },
   "outputs": [
    {
     "name": "stdout",
     "output_type": "stream",
     "text": [
      "Lamu\n",
      "Port of Lamu\n",
      "40° 54' 9\" E\n",
      "2° 16' 5\" S\n",
      "KELAU\n",
      "P.O Box 95009MombasaKenya\n"
     ]
    }
   ],
   "source": [
    "PortLocation=table.find_all('tr')[1].find_all('td')[1].text\n",
    "PortName=table.find_all('tr')[2].find_all('td')[1].text\n",
    "PortAuth=table.find_all('tr')[3].find_all('td')[1].text\n",
    "PortAddress=table.find_all('tr')[4].find_all('td')[1].text\n",
    "PortPhone=table.find_all('tr')[5].find_all('td')[1].text\n",
    "PortFax=table.find_all('tr')[6].find_all('td')[1].text\n",
    "Port800Num=table.find_all('tr')[7].find_all('td')[1].text\n",
    "PortEmail=table.find_all('tr')[8].find_all('td')[1].text\n",
    "PortWeb=table.find_all('tr')[9].find_all('td')[1].text\n",
    "PortLat=table.find_all('tr')[10].find_all('td')[1].text\n",
    "PortLong=table.find_all('tr')[11].find_all('td')[1].text\n",
    "PortLOCODE=table.find_all('tr')[12].find_all('td')[1].text\n",
    "PortType=table.find_all('tr')[13].find_all('td')[1].text\n",
    "PortSize=table.find_all('tr')[14].find_all('td')[1].text\n",
    "\n",
    "print(PortLocation)\n",
    "print(PortName)\n",
    "print(PortLong)\n",
    "print(PortLat)\n",
    "print(PortLOCODE)\n",
    "print(PortAddress)"
   ]
  },
  {
   "cell_type": "code",
   "execution_count": 128,
   "metadata": {
    "collapsed": true
   },
   "outputs": [],
   "source": [
    "url='http://www.worldportsource.com/countries.php'"
   ]
  },
  {
   "cell_type": "code",
   "execution_count": 129,
   "metadata": {
    "collapsed": false
   },
   "outputs": [
    {
     "name": "stdout",
     "output_type": "stream",
     "text": [
      "Site downloaded successfully\n"
     ]
    }
   ],
   "source": [
    "headers = {'User-Agent': 'Mozilla/5.0 (Macintosh; Intel Mac OS X 10_11_5) AppleWebKit/537.36 (KHTML, like Gecko) Chrome/50.0.2661.102 Safari/537.36'}\n",
    "page=requests.get(url,headers=headers)\n",
    "if page.status_code==200:\n",
    "        print (\"Site downloaded successfully\")"
   ]
  },
  {
   "cell_type": "code",
   "execution_count": 130,
   "metadata": {
    "collapsed": true
   },
   "outputs": [],
   "source": [
    "soup = BeautifulSoup(page.content, 'html.parser')\n"
   ]
  },
  {
   "cell_type": "code",
   "execution_count": 131,
   "metadata": {
    "collapsed": true
   },
   "outputs": [],
   "source": [
    "table=soup.find('table', class_='form')"
   ]
  },
  {
   "cell_type": "code",
   "execution_count": 199,
   "metadata": {
    "collapsed": false,
    "scrolled": false
   },
   "outputs": [],
   "source": [
    "DD=table.find_all('tr')[2].find_all('a', href=True)\n",
    "\n",
    "Links=[DD[i]['href'] for i in range(len(DD)) ]"
   ]
  },
  {
   "cell_type": "code",
   "execution_count": 205,
   "metadata": {
    "collapsed": false,
    "scrolled": false
   },
   "outputs": [
    {
     "data": {
      "text/plain": [
       "['/ports/index/ALB.php',\n",
       " '/ports/index/DZA.php',\n",
       " '/ports/index/ASM.php',\n",
       " '/ports/index/AGO.php',\n",
       " '/ports/index/AIA.php',\n",
       " '/ports/index/ATG.php',\n",
       " '/ports/index/ARG.php',\n",
       " '/ports/index/ABW.php',\n",
       " '/ports/index/AUS.php',\n",
       " '/ports/index/AUT.php',\n",
       " '/ports/index/AZE.php',\n",
       " '/ports/index/BHS.php',\n",
       " '/ports/index/BHR.php',\n",
       " '/ports/index/BGD.php',\n",
       " '/ports/index/BRB.php',\n",
       " '/ports/index/BLR.php',\n",
       " '/ports/index/BEL.php',\n",
       " '/ports/index/BLZ.php',\n",
       " '/ports/index/BEN.php',\n",
       " '/ports/index/BMU.php',\n",
       " '/ports/index/BOL.php',\n",
       " '/ports/index/BRA.php',\n",
       " '/ports/index/BRN.php',\n",
       " '/ports/index/BGR.php',\n",
       " '/ports/index/KHM.php',\n",
       " '/ports/index/CMR.php',\n",
       " '/ports/index/CAN.php',\n",
       " '/ports/index/CPV.php',\n",
       " '/ports/index/CYM.php',\n",
       " '/ports/index/CAF.php',\n",
       " '/ports/index/CHL.php',\n",
       " '/ports/index/CHN.php',\n",
       " '/ports/index/CXR.php',\n",
       " '/ports/index/COL.php',\n",
       " '/ports/index/COM.php',\n",
       " '/ports/index/COD.php',\n",
       " '/ports/index/COG.php',\n",
       " '/ports/index/COK.php',\n",
       " '/ports/index/CRI.php',\n",
       " '/ports/index/CIV.php',\n",
       " '/ports/index/HRV.php',\n",
       " '/ports/index/CUB.php',\n",
       " '/ports/index/CYP.php',\n",
       " '/ports/index/CZE.php',\n",
       " '/ports/index/DNK.php',\n",
       " '/ports/index/DJI.php',\n",
       " '/ports/index/DMA.php',\n",
       " '/ports/index/DOM.php',\n",
       " '/ports/index/ECU.php',\n",
       " '/ports/index/EGY.php',\n",
       " '/ports/index/SLV.php',\n",
       " '/ports/index/GNQ.php',\n",
       " '/ports/index/ERI.php',\n",
       " '/ports/index/EST.php',\n",
       " '/ports/index/FLK.php',\n",
       " '/ports/index/FRO.php',\n",
       " '/ports/index/FJI.php',\n",
       " '/ports/index/FIN.php',\n",
       " '/ports/index/FRA.php',\n",
       " '/ports/index/GUF.php',\n",
       " '/ports/index/PYF.php',\n",
       " '/ports/index/GAB.php',\n",
       " '/ports/index/GMB.php',\n",
       " '/ports/index/GEO.php',\n",
       " '/ports/index/DEU.php',\n",
       " '/ports/index/GHA.php',\n",
       " '/ports/index/GIB.php',\n",
       " '/ports/index/GRC.php',\n",
       " '/ports/index/GRL.php',\n",
       " '/ports/index/GRD.php',\n",
       " '/ports/index/GLP.php',\n",
       " '/ports/index/GUM.php',\n",
       " '/ports/index/GTM.php',\n",
       " '/ports/index/GIN.php',\n",
       " '/ports/index/GNB.php',\n",
       " '/ports/index/GUY.php',\n",
       " '/ports/index/HTI.php',\n",
       " '/ports/index/HND.php',\n",
       " '/ports/index/HKG.php',\n",
       " '/ports/index/HUN.php',\n",
       " '/ports/index/ISL.php',\n",
       " '/ports/index/IND.php',\n",
       " '/ports/index/IDN.php',\n",
       " '/ports/index/IRN.php',\n",
       " '/ports/index/IRQ.php',\n",
       " '/ports/index/IRL.php',\n",
       " '/ports/index/ISR.php',\n",
       " '/ports/index/ITA.php',\n",
       " '/ports/index/JAM.php',\n",
       " '/ports/index/JPN.php',\n",
       " '/ports/index/JOR.php',\n",
       " '/ports/index/KAZ.php',\n",
       " '/ports/index/KEN.php',\n",
       " '/ports/index/KIR.php',\n",
       " '/ports/index/PRK.php',\n",
       " '/ports/index/KOR.php',\n",
       " '/ports/index/KWT.php',\n",
       " '/ports/index/LVA.php',\n",
       " '/ports/index/LBN.php',\n",
       " '/ports/index/LBR.php',\n",
       " '/ports/index/LBY.php',\n",
       " '/ports/index/LTU.php',\n",
       " '/ports/index/MAC.php',\n",
       " '/ports/index/MDG.php',\n",
       " '/ports/index/MYS.php',\n",
       " '/ports/index/MDV.php',\n",
       " '/ports/index/MLT.php',\n",
       " '/ports/index/MHL.php',\n",
       " '/ports/index/MTQ.php',\n",
       " '/ports/index/MRT.php',\n",
       " '/ports/index/MUS.php',\n",
       " '/ports/index/MEX.php',\n",
       " '/ports/index/FSM.php',\n",
       " '/ports/index/MCO.php',\n",
       " '/ports/index/MNE.php',\n",
       " '/ports/index/MSR.php',\n",
       " '/ports/index/MAR.php',\n",
       " '/ports/index/MOZ.php',\n",
       " '/ports/index/MMR.php',\n",
       " '/ports/index/NAM.php',\n",
       " '/ports/index/NRU.php',\n",
       " '/ports/index/NLD.php',\n",
       " '/ports/index/ANT.php',\n",
       " '/ports/index/NCL.php',\n",
       " '/ports/index/NZL.php',\n",
       " '/ports/index/NIC.php',\n",
       " '/ports/index/NER.php',\n",
       " '/ports/index/NGA.php',\n",
       " '/ports/index/MNP.php',\n",
       " '/ports/index/NOR.php',\n",
       " '/ports/index/OMN.php',\n",
       " '/ports/index/PAK.php',\n",
       " '/ports/index/PAN.php',\n",
       " '/ports/index/PNG.php',\n",
       " '/ports/index/PRY.php',\n",
       " '/ports/index/PER.php',\n",
       " '/ports/index/PHL.php',\n",
       " '/ports/index/POL.php',\n",
       " '/ports/index/PRT.php',\n",
       " '/ports/index/PRI.php',\n",
       " '/ports/index/QAT.php',\n",
       " '/ports/index/REU.php',\n",
       " '/ports/index/ROM.php',\n",
       " '/ports/index/RUS.php',\n",
       " '/ports/index/KNA.php',\n",
       " '/ports/index/LCA.php',\n",
       " '/ports/index/VCT.php',\n",
       " '/ports/index/WSM.php',\n",
       " '/ports/index/STP.php',\n",
       " '/ports/index/SAU.php',\n",
       " '/ports/index/SEN.php',\n",
       " '/ports/index/SRB.php',\n",
       " '/ports/index/SYC.php',\n",
       " '/ports/index/SLE.php',\n",
       " '/ports/index/SGP.php',\n",
       " '/ports/index/SVK.php',\n",
       " '/ports/index/SVN.php',\n",
       " '/ports/index/SLB.php',\n",
       " '/ports/index/SOM.php',\n",
       " '/ports/index/ZAF.php',\n",
       " '/ports/index/SGS.php',\n",
       " '/ports/index/ESP.php',\n",
       " '/ports/index/LKA.php',\n",
       " '/ports/index/SHN.php',\n",
       " '/ports/index/SPM.php',\n",
       " '/ports/index/SDN.php',\n",
       " '/ports/index/SUR.php',\n",
       " '/ports/index/SJM.php',\n",
       " '/ports/index/SWE.php',\n",
       " '/ports/index/CHE.php',\n",
       " '/ports/index/SYR.php',\n",
       " '/ports/index/TWN.php',\n",
       " '/ports/index/TZA.php',\n",
       " '/ports/index/THA.php',\n",
       " '/ports/index/TMP.php',\n",
       " '/ports/index/TGO.php',\n",
       " '/ports/index/TKL.php',\n",
       " '/ports/index/TON.php',\n",
       " '/ports/index/TTO.php',\n",
       " '/ports/index/TUN.php',\n",
       " '/ports/index/TUR.php',\n",
       " '/ports/index/TKM.php',\n",
       " '/ports/index/TCA.php',\n",
       " '/ports/index/TUV.php',\n",
       " '/ports/index/UKR.php',\n",
       " '/ports/index/ARE.php',\n",
       " '/ports/index/GBR.php',\n",
       " '/ports/index/USA.php',\n",
       " '/ports/index/UMI.php',\n",
       " '/ports/index/URY.php',\n",
       " '/ports/index/VUT.php',\n",
       " '/ports/index/VEN.php',\n",
       " '/ports/index/VNM.php',\n",
       " '/ports/index/VGB.php',\n",
       " '/ports/index/VIR.php',\n",
       " '/ports/index/YEM.php']"
      ]
     },
     "execution_count": 205,
     "metadata": {},
     "output_type": "execute_result"
    }
   ],
   "source": [
    "LinksCount=[Links[i] for i in range (len(Links)) if len(str(Links[i]))>10]\n",
    "LinksCount"
   ]
  },
  {
   "cell_type": "code",
   "execution_count": 98,
   "metadata": {
    "collapsed": false,
    "scrolled": true
   },
   "outputs": [
    {
     "data": {
      "text/plain": [
       "'Port of Nanaimo'"
      ]
     },
     "execution_count": 98,
     "metadata": {},
     "output_type": "execute_result"
    }
   ],
   "source": [
    "table.find_all('tr')[2].find_all('td')[1].text"
   ]
  },
  {
   "cell_type": "code",
   "execution_count": 206,
   "metadata": {
    "collapsed": false
   },
   "outputs": [
    {
     "name": "stdout",
     "output_type": "stream",
     "text": [
      "Site downloaded successfully\n"
     ]
    }
   ],
   "source": [
    "#http://www.worldportsource.com/ports/index/ALB.php\n",
    "\n",
    "\n",
    "\n",
    "import urllib.request\n",
    "import requests\n",
    "from bs4 import BeautifulSoup\n",
    "import urllib.request\n",
    "import csv\n",
    "\n",
    "url='http://www.worldportsource.com/ports/index/ALB.php'\n",
    "headers = {'User-Agent': 'Mozilla/5.0 (Macintosh; Intel Mac OS X 10_11_5) AppleWebKit/537.36 (KHTML, like Gecko) Chrome/50.0.2661.102 Safari/537.36'}\n",
    "page=requests.get(url,headers=headers)\n",
    "if page.status_code==200:\n",
    "        print (\"Site downloaded successfully\")"
   ]
  },
  {
   "cell_type": "code",
   "execution_count": 217,
   "metadata": {
    "collapsed": false,
    "scrolled": true
   },
   "outputs": [
    {
     "data": {
      "text/plain": [
       "[<a href=\"#D\">D</a>,\n",
       " <a href=\"#S\">S</a>,\n",
       " <a href=\"#V\">V</a>,\n",
       " <a href=\"/ports/ALB_Port_of_Durres_2181.php\">Port of Durres</a>,\n",
       " <a href=\"#top\">Top</a>,\n",
       " <a href=\"/ports/ALB_Port_of_Sarande_2182.php\">Port of Sarande</a>,\n",
       " <a href=\"/ports/ALB_Port_of_Shengjin_2183.php\">Port of Shengjin</a>,\n",
       " <a href=\"#top\">Top</a>,\n",
       " <a href=\"/ports/ALB_Port_of_Vlore_2184.php\">Port of Vlore</a>]"
      ]
     },
     "execution_count": 217,
     "metadata": {},
     "output_type": "execute_result"
    }
   ],
   "source": [
    "soup = BeautifulSoup(page.content, 'html.parser')\n",
    "table=soup.find_all('table', class_='form')[0].find_all('a',href=True)\n",
    "table"
   ]
  },
  {
   "cell_type": "code",
   "execution_count": 220,
   "metadata": {
    "collapsed": false,
    "scrolled": true
   },
   "outputs": [
    {
     "data": {
      "text/plain": [
       "['#D',\n",
       " '#S',\n",
       " '#V',\n",
       " '/ports/ALB_Port_of_Durres_2181.php',\n",
       " '#top',\n",
       " '/ports/ALB_Port_of_Sarande_2182.php',\n",
       " '/ports/ALB_Port_of_Shengjin_2183.php',\n",
       " '#top',\n",
       " '/ports/ALB_Port_of_Vlore_2184.php']"
      ]
     },
     "execution_count": 220,
     "metadata": {},
     "output_type": "execute_result"
    }
   ],
   "source": [
    "Links=[table[i]['href'] for i in range(len(table)) ]\n",
    "Links"
   ]
  },
  {
   "cell_type": "code",
   "execution_count": 221,
   "metadata": {
    "collapsed": false
   },
   "outputs": [
    {
     "data": {
      "text/plain": [
       "['/ports/ALB_Port_of_Durres_2181.php',\n",
       " '/ports/ALB_Port_of_Sarande_2182.php',\n",
       " '/ports/ALB_Port_of_Shengjin_2183.php',\n",
       " '/ports/ALB_Port_of_Vlore_2184.php']"
      ]
     },
     "execution_count": 221,
     "metadata": {},
     "output_type": "execute_result"
    }
   ],
   "source": [
    "LinksCount=[Links[i] for i in range (len(Links)) if len(str(Links[i]))>10]\n",
    "LinksCount"
   ]
  },
  {
   "cell_type": "code",
   "execution_count": null,
   "metadata": {
    "collapsed": true
   },
   "outputs": [],
   "source": [
    "    try:\n",
    "        soup = BeautifulSoup(page.content, 'html.parser')\n",
    "        title=soup.find_all('div', class_=\"mycol-4 picture-page\")[0].h1.text\n",
    "        print(title)\n",
    "        Titles.append(title)\n",
    "        link=soup.find_all('div', class_='img-container')[0].img['src']\n",
    "        print(link)\n",
    "        urllib.request.urlretrieve(link, \"images/Ship\"+str(i)+\".jpg\")\n",
    "    except IndexError as e:\n",
    "        print(\"Oops!  That ship\" + str(i) +\" was not found .. skip to next...\")\n",
    "        Titles.append('None')"
   ]
  }
 ],
 "metadata": {
  "kernelspec": {
   "display_name": "Python 3",
   "language": "python",
   "name": "python3"
  },
  "language_info": {
   "codemirror_mode": {
    "name": "ipython",
    "version": 3
   },
   "file_extension": ".py",
   "mimetype": "text/x-python",
   "name": "python",
   "nbconvert_exporter": "python",
   "pygments_lexer": "ipython3",
   "version": "3.5.2"
  }
 },
 "nbformat": 4,
 "nbformat_minor": 2
}
