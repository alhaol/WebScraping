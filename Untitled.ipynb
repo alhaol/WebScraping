{
 "cells": [
  {
   "cell_type": "code",
   "execution_count": null,
   "metadata": {
    "collapsed": true
   },
   "outputs": [],
   "source": [
    "import requests\n",
    "from bs4 import BeautifulSoup\n",
    "import csv\n",
    "Titles=[]\n",
    "Ind=1\n",
    "End=10000\n",
    "for i in range(Ind,Ind+End+1):\n",
    "    url = \"https://www.vesselfinder.com/ship-photos/\"+str(i)\n",
    "    headers = {'User-Agent': 'Mozilla/5.0 (Macintosh; Intel Mac OS X 10_11_5) AppleWebKit/537.36 (KHTML, like Gecko) Chrome/50.0.2661.102 Safari/537.36'}\n",
    "    page=requests.get(url,headers=headers)\n",
    "    if page.status_code==200:\n",
    "        print (\"Image downloaded successfully\")\n",
    "    #page.status_code\n",
    "    #print(page.content.decode())\n",
    "    try:\n",
    "        soup = BeautifulSoup(page.content, 'html.parser')\n",
    "        title=soup.find_all('div', class_=\"mycol-4 picture-page\")[0].h1.text\n",
    "        print(title)\n",
    "        Titles.append(title)\n",
    "        link=soup.find_all('div', class_='img-container')[0].img['src']\n",
    "        print(link)\n",
    "        urllib.request.urlretrieve(link, \"images/Ship\"+str(i)+\".jpg\")\n",
    "    except IndexError as e:\n",
    "        print(\"Oops!  That ship\" + str(i) +\" was not found .. skip to next...\")\n",
    "        Titles.append('None')\n",
    "    \n",
    "with open('images/ShipNames.csv', 'w') as myfile:\n",
    "    wr = csv.writer(myfile, quoting=csv.QUOTE_ALL)\n",
    "    wr.writerow(Titles)\n"
   ]
  }
 ],
 "metadata": {
  "kernelspec": {
   "display_name": "Python 3",
   "language": "python",
   "name": "python3"
  },
  "language_info": {
   "codemirror_mode": {
    "name": "ipython",
    "version": 3
   },
   "file_extension": ".py",
   "mimetype": "text/x-python",
   "name": "python",
   "nbconvert_exporter": "python",
   "pygments_lexer": "ipython3",
   "version": "3.5.2"
  }
 },
 "nbformat": 4,
 "nbformat_minor": 2
}
